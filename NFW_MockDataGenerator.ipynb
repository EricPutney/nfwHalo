{
 "cells": [
  {
   "cell_type": "code",
   "execution_count": 1,
   "metadata": {},
   "outputs": [],
   "source": [
    "import numpy as np\n",
    "import scipy\n",
    "from scipy import special\n",
    "from scipy import integrate\n",
    "from scipy import interpolate\n",
    "from scipy import stats\n",
    "from scipy import optimize\n",
    "from numpy.random import default_rng\n",
    "\n",
    "import time\n",
    "\n",
    "import matplotlib\n",
    "from matplotlib import pyplot as plt\n",
    "from mpl_toolkits.mplot3d import Axes3D"
   ]
  },
  {
   "cell_type": "code",
   "execution_count": 327,
   "metadata": {},
   "outputs": [],
   "source": [
    "class haloNFW(): # Our NFW halo object\n",
    "    def __init__(self,nTracers,a,r_delta,rho_0,critical_density=1.26*10**-7):\n",
    "        \"\"\"\n",
    "        NFW Halo. This init just stores some of the arguments passed in and computes some important/handy quantities.\n",
    "        \"\"\"\n",
    "        self.nTracers = nTracers\n",
    "        self.a = a\n",
    "        self.r_delta = r_delta\n",
    "        self.rho_0 = rho_0\n",
    "        self.rho_critical = critical_density # solar masses/Mpc^3\n",
    "        #c_term_1 = ((3*np.sqrt(3)*np.sqrt(27*self.rho_0**2/(self.delta*self.rho_critical)**2 \n",
    "        #                                  + 4*self.rho_0/(self.delta*self.rho_critical)) \n",
    "        #             + 27*self.rho_0/(self.delta*self.rho_critical) \n",
    "        #             + 2)/2)**(1/3)\n",
    "        #self.c = ( c_term_1 + 1./c_term_1 -2 )/3.\n",
    "        self.c = np.float64(self.r_delta / self.a)\n",
    "        self.G_SI = 6.67*10**-11 # SI Newton's constant, m^3/(kg*s^2)\n",
    "        self.G = 4.5*10**-32 # Newton's constant, pc**3/(solar mass * seconds**2)\n",
    "        self.M_halo = 4*np.pi*self.rho_0*(np.log(1+self.c)-(self.c/(1+self.c)))\n",
    "        self.virial_speed = np.sqrt(self.G*self.M_halo/self.r_delta)\n",
    "        \n",
    "    def nfwPotential(self, r):\n",
    "        return -4*np.pi*self.rho_0*self.a**3*np.log(1+r/self.a)/(r/self.a)\n",
    "        \n",
    "    def radialCDF(self,r):\n",
    "        \"\"\"\n",
    "        This is the radial cumulative distribution function for an NFW halo. Takes an un-normalized radius and spits out the probability for\n",
    "        r to be between 0 and the input radius. When paired with inverse transform sampling, you can rebuild the radial distribution function\n",
    "        with a small set of tracers.\n",
    "        \"\"\"\n",
    "        if 0<=r<=self.r_delta:\n",
    "            x = r/self.r_delta # It's much cleaner with a normalized radius.\n",
    "            return (np.log(1+self.c*x) - (self.c*x)/(1+self.c*x))/(np.log(1+self.c) - (self.c)/(1+self.c))\n",
    "        else:\n",
    "            print(\"Out of acceptable radial bounds\")\n",
    "            \n",
    "    #def radialCDFSubRandNum(self,r):\n",
    "    #    \"\"\"\n",
    "    #    This is a stupid function but it lets us subtract a random offset (between 0 and 1) from the radial CDF with a simply callable function,\n",
    "    #    allowing a root-finding algorithm to find the root of this function e.g. where the radial CDF equals that random offset.\n",
    "    #    \"\"\"\n",
    "    #    return self.radialCDF(r)-self.randomNum(1)\n",
    "    \n",
    "    def randomNum(self,n=1):\n",
    "        \"\"\"\n",
    "        Basic implementation of the new scipy random number generation. Creates a new generator and calls the .random(n) method\n",
    "        which returns n random numbers uniformly distributed between 0 and 1.\n",
    "        \"\"\"\n",
    "        return default_rng().random(n) # generates n random numbers\n",
    "    \n",
    "    def inverseTransformSampling(self, CDF, bracket, nSamples):\n",
    "        \"\"\"\n",
    "        Simple implementation of inverseTransformSampling. Currently a little slow since I need to loop though each sample instead of doing it\n",
    "        in one step that can be parallelized. You win some, you lose some. Anyways, this takes any cumulative distribution function (CDF), subtracts\n",
    "        some random offset from it between 0 and 1, and then finds the root of that offset CDF. When you repeat this process and record the roots,\n",
    "        you actually recover the original distribution function and can draw from it truly at random.\n",
    "        \"\"\"\n",
    "        result = []\n",
    "        CDFsubRandomNumber = lambda x: CDF(x) - self.randomNum(1) # Need a modified CDF where we subtract some random offset each time it's called.\n",
    "        for i in range(nSamples):\n",
    "            result.append( optimize.root_scalar( CDFsubRandomNumber , bracket = bracket ).root )\n",
    "            \n",
    "        return np.array(result)\n",
    "    \n",
    "    def genTracerCoords(self):\n",
    "        \"\"\"\n",
    "        Our halo needs tracer stars, and those tracer stars need coordinates! (otherwise they wouldn't be anywhere...) You should probably avoid\n",
    "        calling this function, since the calculation of velocities will actually need the list of radii this function generates. If you were to\n",
    "        generate these radii, then generate velocities, but then generate radii again the velocities wouldn't update. So this should only be called\n",
    "        in the genTracers() method.\n",
    "        \n",
    "        This defines two class properties: radii and sphericalCoordinateAngles. radii is self-explanatory, sphericalCoordinateAngles is a 2-row array where the first\n",
    "        row is the list of polar angles (theta) called like sphericalCoordinateAngles[0,:] and the second row is the list of azimuthal angles (phi) called like\n",
    "        sphericalCoordinateAngles[1,:].\n",
    "        \"\"\"\n",
    "        self.radii = self.inverseTransformSampling( self.radialCDF, bracket = (0, self.r_delta), nSamples = self.nTracers)\n",
    "        self.sphericalCoordinateAngles = np.array([self.randomNum(self.nTracers)*np.pi,self.randomNum(self.nTracers)*2*np.pi]) # first row is theta, second row is phi\n",
    "\n",
    "    def g_fcn(self,x):\n",
    "        return np.log(1+x)-(x/(1+x))\n",
    "    \n",
    "    def radialVelocityDispersion(self):\n",
    "        norm_radii = self.radii/self.r_delta\n",
    "        self.sigma_vr_squared=[]\n",
    "        for i in range(self.nTracers):\n",
    "            #print(type(self.virial_speed), type(self.c), type(norm_radii[i]), type(self.g_fcn(self.c)))\n",
    "            self.sigma_vr_squared.append(\\\n",
    "                                         self.virial_speed**2*(self.c*norm_radii[i]*(1+self.c*norm_radii[i])/self.g_fcn(self.c))\\\n",
    "                                         *integrate.quad( lambda y: self.g_fcn(y)/(y**3*(1+y)**2) , norm_radii[i], np.inf)[0]\\\n",
    "                                        )\n",
    "    \n",
    "    def radialVelocityPDF(self,v_radial,dispersion_squared):\n",
    "        return ( (3/(2*np.pi*dispersion_squared))**(3/2) )*4*np.pi*v_radial**2*np.exp( -3*v_radial**2/(2*dispersion_squared) )\n",
    "    \n",
    "    def radialVelocityCDF(self,v_radial,dispersion_squared):\n",
    "        return integrate.quad( lambda v: self.radialVelocityPDF(v,dispersion_squared), 0, v_radial)[0]\n",
    "    \n",
    "    def genTracerVelocities(self):\n",
    "        self.radialVelocityDispersion()\n",
    "        self.radialVelocities = []\n",
    "        for i in range(self.nTracers):\n",
    "            v_max = np.sqrt(2*self.nfwPotential(self.radii[i]))\n",
    "            self.radialVelocities.append(self.inverseTransformSampling(lambda v: self.radialVelocityCDF(v,self.sigma_vr_squared[i]), bracket = (0, v_max), nSamples = 1))\n",
    "        self.sphericalVelocityAngles = np.array([self.randomNum(self.nTracers)*np.pi,self.randomNum(self.nTracers)*2*np.pi]) # first row is theta, second row is phi\n",
    "        \n",
    "    def genTracers(self):\n",
    "        self.genTracerCoords()\n",
    "        self.genTracerVelocities()\n",
    "        self.sphericalPhaseSpacePoints = [self.radii,self.sphericalCoordinateAngles,self.radialVelocities,self.sphericalVelocityAngles]"
   ]
  },
  {
   "cell_type": "code",
   "execution_count": null,
   "metadata": {},
   "outputs": [],
   "source": []
  },
  {
   "cell_type": "code",
   "execution_count": 328,
   "metadata": {},
   "outputs": [],
   "source": [
    "# Let's make a halo!\n",
    "\n",
    "nTracers = 1000\n",
    "mwHaloDensity = 7.18 * 10 ** -3 # Solar masses per cubic parsec, Milky way DM halo density (SOFUE 2011)\n",
    "criticalDensity = 1.26 * 10 ** -7 # Solar masses per cubic parsec\n",
    "scaleRadiusA = .01\n",
    "scaleRadiusDelta = 1\n",
    "\n",
    "halo = haloNFW(nTracers,scaleRadiusA,scaleRadiusDelta,mwHaloDensity,criticalDensity)"
   ]
  },
  {
   "cell_type": "code",
   "execution_count": 329,
   "metadata": {},
   "outputs": [],
   "source": [
    "#halo.radialCDF(.001)-halo.randomNum(1)\n",
    "#halo.radialCDFSubRandNum(.0001)\n",
    "halo.genTracerCoords()"
   ]
  },
  {
   "cell_type": "code",
   "execution_count": 330,
   "metadata": {},
   "outputs": [
    {
     "name": "stdout",
     "output_type": "stream",
     "text": [
      "1\n"
     ]
    },
    {
     "data": {
      "image/png": "[encoded data removed]",
      "text/plain": [
       "<Figure size 432x288 with 1 Axes>"
      ]
     },
     "metadata": {
      "needs_background": "light"
     },
     "output_type": "display_data"
    }
   ],
   "source": [
    "plt.hist(halo.radii,20)\n",
    "print(halo.r_delta)"
   ]
  },
  {
   "cell_type": "code",
   "execution_count": 331,
   "metadata": {},
   "outputs": [],
   "source": [
    "x = halo.radii*np.sin(halo.sphericalCoordinateAngles[0,:])*np.cos(halo.sphericalCoordinateAngles[1,:])\n",
    "y = halo.radii*np.sin(halo.sphericalCoordinateAngles[0,:])*np.sin(halo.sphericalCoordinateAngles[1,:])\n",
    "z = halo.radii*np.cos(halo.sphericalCoordinateAngles[0,:])"
   ]
  },
  {
   "cell_type": "code",
   "execution_count": 332,
   "metadata": {},
   "outputs": [
    {
     "data": {
      "text/plain": [
       "1.2131896729198106e-16"
      ]
     },
     "execution_count": 332,
     "metadata": {},
     "output_type": "execute_result"
    },
    {
     "data": {
      "image/png": "[encoded data removed]",
      "text/plain": [
       "<Figure size 432x288 with 1 Axes>"
      ]
     },
     "metadata": {
      "needs_background": "light"
     },
     "output_type": "display_data"
    }
   ],
   "source": [
    "fig = plt.figure()\n",
    "ax = fig.add_subplot(111, projection='3d')\n",
    "ax.scatter(x,y,z)\n",
    "halo.virial_speed"
   ]
  },
  {
   "cell_type": "code",
   "execution_count": 333,
   "metadata": {},
   "outputs": [
    {
     "name": "stderr",
     "output_type": "stream",
     "text": [
      "<ipython-input-327-0cd4f1b5a312>:102: RuntimeWarning: invalid value encountered in sqrt\n",
      "  v_max = np.sqrt(2*self.nfwPotential(self.radii[i]))\n"
     ]
    },
    {
     "ename": "ValueError",
     "evalue": "f(a) and f(b) must have different signs",
     "output_type": "error",
     "traceback": [
      "\u001b[1;31m---------------------------------------------------------------------------\u001b[0m",
      "\u001b[1;31mValueError\u001b[0m                                Traceback (most recent call last)",
      "\u001b[1;32m<ipython-input-333-92b72914b709>\u001b[0m in \u001b[0;36m<module>\u001b[1;34m\u001b[0m\n\u001b[1;32m----> 1\u001b[1;33m \u001b[0mhalo\u001b[0m\u001b[1;33m.\u001b[0m\u001b[0mgenTracers\u001b[0m\u001b[1;33m(\u001b[0m\u001b[1;33m)\u001b[0m\u001b[1;33m\u001b[0m\u001b[1;33m\u001b[0m\u001b[0m\n\u001b[0m",
      "\u001b[1;32m<ipython-input-327-0cd4f1b5a312>\u001b[0m in \u001b[0;36mgenTracers\u001b[1;34m(self)\u001b[0m\n\u001b[0;32m    106\u001b[0m     \u001b[1;32mdef\u001b[0m \u001b[0mgenTracers\u001b[0m\u001b[1;33m(\u001b[0m\u001b[0mself\u001b[0m\u001b[1;33m)\u001b[0m\u001b[1;33m:\u001b[0m\u001b[1;33m\u001b[0m\u001b[1;33m\u001b[0m\u001b[0m\n\u001b[0;32m    107\u001b[0m         \u001b[0mself\u001b[0m\u001b[1;33m.\u001b[0m\u001b[0mgenTracerCoords\u001b[0m\u001b[1;33m(\u001b[0m\u001b[1;33m)\u001b[0m\u001b[1;33m\u001b[0m\u001b[1;33m\u001b[0m\u001b[0m\n\u001b[1;32m--> 108\u001b[1;33m         \u001b[0mself\u001b[0m\u001b[1;33m.\u001b[0m\u001b[0mgenTracerVelocities\u001b[0m\u001b[1;33m(\u001b[0m\u001b[1;33m)\u001b[0m\u001b[1;33m\u001b[0m\u001b[1;33m\u001b[0m\u001b[0m\n\u001b[0m\u001b[0;32m    109\u001b[0m         \u001b[0mself\u001b[0m\u001b[1;33m.\u001b[0m\u001b[0msphericalPhaseSpacePoints\u001b[0m \u001b[1;33m=\u001b[0m \u001b[1;33m[\u001b[0m\u001b[0mself\u001b[0m\u001b[1;33m.\u001b[0m\u001b[0mradii\u001b[0m\u001b[1;33m,\u001b[0m\u001b[0mself\u001b[0m\u001b[1;33m.\u001b[0m\u001b[0msphericalCoordinateAngles\u001b[0m\u001b[1;33m,\u001b[0m\u001b[0mself\u001b[0m\u001b[1;33m.\u001b[0m\u001b[0mradialVelocities\u001b[0m\u001b[1;33m,\u001b[0m\u001b[0mself\u001b[0m\u001b[1;33m.\u001b[0m\u001b[0msphericalVelocityAngles\u001b[0m\u001b[1;33m]\u001b[0m\u001b[1;33m\u001b[0m\u001b[1;33m\u001b[0m\u001b[0m\n",
      "\u001b[1;32m<ipython-input-327-0cd4f1b5a312>\u001b[0m in \u001b[0;36mgenTracerVelocities\u001b[1;34m(self)\u001b[0m\n\u001b[0;32m    101\u001b[0m         \u001b[1;32mfor\u001b[0m \u001b[0mi\u001b[0m \u001b[1;32min\u001b[0m \u001b[0mrange\u001b[0m\u001b[1;33m(\u001b[0m\u001b[0mself\u001b[0m\u001b[1;33m.\u001b[0m\u001b[0mnTracers\u001b[0m\u001b[1;33m)\u001b[0m\u001b[1;33m:\u001b[0m\u001b[1;33m\u001b[0m\u001b[1;33m\u001b[0m\u001b[0m\n\u001b[0;32m    102\u001b[0m             \u001b[0mv_max\u001b[0m \u001b[1;33m=\u001b[0m \u001b[0mnp\u001b[0m\u001b[1;33m.\u001b[0m\u001b[0msqrt\u001b[0m\u001b[1;33m(\u001b[0m\u001b[1;36m2\u001b[0m\u001b[1;33m*\u001b[0m\u001b[0mself\u001b[0m\u001b[1;33m.\u001b[0m\u001b[0mnfwPotential\u001b[0m\u001b[1;33m(\u001b[0m\u001b[0mself\u001b[0m\u001b[1;33m.\u001b[0m\u001b[0mradii\u001b[0m\u001b[1;33m[\u001b[0m\u001b[0mi\u001b[0m\u001b[1;33m]\u001b[0m\u001b[1;33m)\u001b[0m\u001b[1;33m)\u001b[0m\u001b[1;33m\u001b[0m\u001b[1;33m\u001b[0m\u001b[0m\n\u001b[1;32m--> 103\u001b[1;33m             \u001b[0mself\u001b[0m\u001b[1;33m.\u001b[0m\u001b[0mradialVelocities\u001b[0m\u001b[1;33m.\u001b[0m\u001b[0mappend\u001b[0m\u001b[1;33m(\u001b[0m\u001b[0mself\u001b[0m\u001b[1;33m.\u001b[0m\u001b[0minverseTransformSampling\u001b[0m\u001b[1;33m(\u001b[0m\u001b[1;32mlambda\u001b[0m \u001b[0mv\u001b[0m\u001b[1;33m:\u001b[0m \u001b[0mself\u001b[0m\u001b[1;33m.\u001b[0m\u001b[0mradialVelocityCDF\u001b[0m\u001b[1;33m(\u001b[0m\u001b[0mv\u001b[0m\u001b[1;33m,\u001b[0m\u001b[0mself\u001b[0m\u001b[1;33m.\u001b[0m\u001b[0msigma_vr_squared\u001b[0m\u001b[1;33m[\u001b[0m\u001b[0mi\u001b[0m\u001b[1;33m]\u001b[0m\u001b[1;33m)\u001b[0m\u001b[1;33m,\u001b[0m \u001b[0mbracket\u001b[0m \u001b[1;33m=\u001b[0m \u001b[1;33m(\u001b[0m\u001b[1;36m0\u001b[0m\u001b[1;33m,\u001b[0m \u001b[0mv_max\u001b[0m\u001b[1;33m)\u001b[0m\u001b[1;33m,\u001b[0m \u001b[0mnSamples\u001b[0m \u001b[1;33m=\u001b[0m \u001b[1;36m1\u001b[0m\u001b[1;33m)\u001b[0m\u001b[1;33m)\u001b[0m\u001b[1;33m\u001b[0m\u001b[1;33m\u001b[0m\u001b[0m\n\u001b[0m\u001b[0;32m    104\u001b[0m         \u001b[0mself\u001b[0m\u001b[1;33m.\u001b[0m\u001b[0msphericalVelocityAngles\u001b[0m \u001b[1;33m=\u001b[0m \u001b[0mnp\u001b[0m\u001b[1;33m.\u001b[0m\u001b[0marray\u001b[0m\u001b[1;33m(\u001b[0m\u001b[1;33m[\u001b[0m\u001b[0mself\u001b[0m\u001b[1;33m.\u001b[0m\u001b[0mrandomNum\u001b[0m\u001b[1;33m(\u001b[0m\u001b[0mself\u001b[0m\u001b[1;33m.\u001b[0m\u001b[0mnTracers\u001b[0m\u001b[1;33m)\u001b[0m\u001b[1;33m*\u001b[0m\u001b[0mnp\u001b[0m\u001b[1;33m.\u001b[0m\u001b[0mpi\u001b[0m\u001b[1;33m,\u001b[0m\u001b[0mself\u001b[0m\u001b[1;33m.\u001b[0m\u001b[0mrandomNum\u001b[0m\u001b[1;33m(\u001b[0m\u001b[0mself\u001b[0m\u001b[1;33m.\u001b[0m\u001b[0mnTracers\u001b[0m\u001b[1;33m)\u001b[0m\u001b[1;33m*\u001b[0m\u001b[1;36m2\u001b[0m\u001b[1;33m*\u001b[0m\u001b[0mnp\u001b[0m\u001b[1;33m.\u001b[0m\u001b[0mpi\u001b[0m\u001b[1;33m]\u001b[0m\u001b[1;33m)\u001b[0m \u001b[1;31m# first row is theta, second row is phi\u001b[0m\u001b[1;33m\u001b[0m\u001b[1;33m\u001b[0m\u001b[0m\n\u001b[0;32m    105\u001b[0m \u001b[1;33m\u001b[0m\u001b[0m\n",
      "\u001b[1;32m<ipython-input-327-0cd4f1b5a312>\u001b[0m in \u001b[0;36minverseTransformSampling\u001b[1;34m(self, CDF, bracket, nSamples)\u001b[0m\n\u001b[0;32m     59\u001b[0m         \u001b[0mCDFsubRandomNumber\u001b[0m \u001b[1;33m=\u001b[0m \u001b[1;32mlambda\u001b[0m \u001b[0mx\u001b[0m\u001b[1;33m:\u001b[0m \u001b[0mCDF\u001b[0m\u001b[1;33m(\u001b[0m\u001b[0mx\u001b[0m\u001b[1;33m)\u001b[0m \u001b[1;33m-\u001b[0m \u001b[0mself\u001b[0m\u001b[1;33m.\u001b[0m\u001b[0mrandomNum\u001b[0m\u001b[1;33m(\u001b[0m\u001b[1;36m1\u001b[0m\u001b[1;33m)\u001b[0m \u001b[1;31m# Need a modified CDF where we subtract some random offset each time it's called.\u001b[0m\u001b[1;33m\u001b[0m\u001b[1;33m\u001b[0m\u001b[0m\n\u001b[0;32m     60\u001b[0m         \u001b[1;32mfor\u001b[0m \u001b[0mi\u001b[0m \u001b[1;32min\u001b[0m \u001b[0mrange\u001b[0m\u001b[1;33m(\u001b[0m\u001b[0mnSamples\u001b[0m\u001b[1;33m)\u001b[0m\u001b[1;33m:\u001b[0m\u001b[1;33m\u001b[0m\u001b[1;33m\u001b[0m\u001b[0m\n\u001b[1;32m---> 61\u001b[1;33m             \u001b[0mresult\u001b[0m\u001b[1;33m.\u001b[0m\u001b[0mappend\u001b[0m\u001b[1;33m(\u001b[0m \u001b[0moptimize\u001b[0m\u001b[1;33m.\u001b[0m\u001b[0mroot_scalar\u001b[0m\u001b[1;33m(\u001b[0m \u001b[0mCDFsubRandomNumber\u001b[0m \u001b[1;33m,\u001b[0m \u001b[0mbracket\u001b[0m \u001b[1;33m=\u001b[0m \u001b[0mbracket\u001b[0m \u001b[1;33m)\u001b[0m\u001b[1;33m.\u001b[0m\u001b[0mroot\u001b[0m \u001b[1;33m)\u001b[0m\u001b[1;33m\u001b[0m\u001b[1;33m\u001b[0m\u001b[0m\n\u001b[0m\u001b[0;32m     62\u001b[0m \u001b[1;33m\u001b[0m\u001b[0m\n\u001b[0;32m     63\u001b[0m         \u001b[1;32mreturn\u001b[0m \u001b[0mnp\u001b[0m\u001b[1;33m.\u001b[0m\u001b[0marray\u001b[0m\u001b[1;33m(\u001b[0m\u001b[0mresult\u001b[0m\u001b[1;33m)\u001b[0m\u001b[1;33m\u001b[0m\u001b[1;33m\u001b[0m\u001b[0m\n",
      "\u001b[1;32m~\\anaconda3\\lib\\site-packages\\scipy\\optimize\\_root_scalar.py\u001b[0m in \u001b[0;36mroot_scalar\u001b[1;34m(f, args, method, bracket, fprime, fprime2, x0, x1, xtol, rtol, maxiter, options)\u001b[0m\n\u001b[0;32m    244\u001b[0m \u001b[1;33m\u001b[0m\u001b[0m\n\u001b[0;32m    245\u001b[0m         \u001b[0ma\u001b[0m\u001b[1;33m,\u001b[0m \u001b[0mb\u001b[0m \u001b[1;33m=\u001b[0m \u001b[0mbracket\u001b[0m\u001b[1;33m[\u001b[0m\u001b[1;33m:\u001b[0m\u001b[1;36m2\u001b[0m\u001b[1;33m]\u001b[0m\u001b[1;33m\u001b[0m\u001b[1;33m\u001b[0m\u001b[0m\n\u001b[1;32m--> 246\u001b[1;33m         \u001b[0mr\u001b[0m\u001b[1;33m,\u001b[0m \u001b[0msol\u001b[0m \u001b[1;33m=\u001b[0m \u001b[0mmethodc\u001b[0m\u001b[1;33m(\u001b[0m\u001b[0mf\u001b[0m\u001b[1;33m,\u001b[0m \u001b[0ma\u001b[0m\u001b[1;33m,\u001b[0m \u001b[0mb\u001b[0m\u001b[1;33m,\u001b[0m \u001b[0margs\u001b[0m\u001b[1;33m=\u001b[0m\u001b[0margs\u001b[0m\u001b[1;33m,\u001b[0m \u001b[1;33m**\u001b[0m\u001b[0mkwargs\u001b[0m\u001b[1;33m)\u001b[0m\u001b[1;33m\u001b[0m\u001b[1;33m\u001b[0m\u001b[0m\n\u001b[0m\u001b[0;32m    247\u001b[0m     \u001b[1;32melif\u001b[0m \u001b[0mmeth\u001b[0m \u001b[1;32min\u001b[0m \u001b[1;33m[\u001b[0m\u001b[1;34m'secant'\u001b[0m\u001b[1;33m]\u001b[0m\u001b[1;33m:\u001b[0m\u001b[1;33m\u001b[0m\u001b[1;33m\u001b[0m\u001b[0m\n\u001b[0;32m    248\u001b[0m         \u001b[1;32mif\u001b[0m \u001b[0mx0\u001b[0m \u001b[1;32mis\u001b[0m \u001b[1;32mNone\u001b[0m\u001b[1;33m:\u001b[0m\u001b[1;33m\u001b[0m\u001b[1;33m\u001b[0m\u001b[0m\n",
      "\u001b[1;32m~\\anaconda3\\lib\\site-packages\\scipy\\optimize\\zeros.py\u001b[0m in \u001b[0;36mbrentq\u001b[1;34m(f, a, b, args, xtol, rtol, maxiter, full_output, disp)\u001b[0m\n\u001b[0;32m    774\u001b[0m     \u001b[1;32mif\u001b[0m \u001b[0mrtol\u001b[0m \u001b[1;33m<\u001b[0m \u001b[0m_rtol\u001b[0m\u001b[1;33m:\u001b[0m\u001b[1;33m\u001b[0m\u001b[1;33m\u001b[0m\u001b[0m\n\u001b[0;32m    775\u001b[0m         \u001b[1;32mraise\u001b[0m \u001b[0mValueError\u001b[0m\u001b[1;33m(\u001b[0m\u001b[1;34m\"rtol too small (%g < %g)\"\u001b[0m \u001b[1;33m%\u001b[0m \u001b[1;33m(\u001b[0m\u001b[0mrtol\u001b[0m\u001b[1;33m,\u001b[0m \u001b[0m_rtol\u001b[0m\u001b[1;33m)\u001b[0m\u001b[1;33m)\u001b[0m\u001b[1;33m\u001b[0m\u001b[1;33m\u001b[0m\u001b[0m\n\u001b[1;32m--> 776\u001b[1;33m     \u001b[0mr\u001b[0m \u001b[1;33m=\u001b[0m \u001b[0m_zeros\u001b[0m\u001b[1;33m.\u001b[0m\u001b[0m_brentq\u001b[0m\u001b[1;33m(\u001b[0m\u001b[0mf\u001b[0m\u001b[1;33m,\u001b[0m \u001b[0ma\u001b[0m\u001b[1;33m,\u001b[0m \u001b[0mb\u001b[0m\u001b[1;33m,\u001b[0m \u001b[0mxtol\u001b[0m\u001b[1;33m,\u001b[0m \u001b[0mrtol\u001b[0m\u001b[1;33m,\u001b[0m \u001b[0mmaxiter\u001b[0m\u001b[1;33m,\u001b[0m \u001b[0margs\u001b[0m\u001b[1;33m,\u001b[0m \u001b[0mfull_output\u001b[0m\u001b[1;33m,\u001b[0m \u001b[0mdisp\u001b[0m\u001b[1;33m)\u001b[0m\u001b[1;33m\u001b[0m\u001b[1;33m\u001b[0m\u001b[0m\n\u001b[0m\u001b[0;32m    777\u001b[0m     \u001b[1;32mreturn\u001b[0m \u001b[0mresults_c\u001b[0m\u001b[1;33m(\u001b[0m\u001b[0mfull_output\u001b[0m\u001b[1;33m,\u001b[0m \u001b[0mr\u001b[0m\u001b[1;33m)\u001b[0m\u001b[1;33m\u001b[0m\u001b[1;33m\u001b[0m\u001b[0m\n\u001b[0;32m    778\u001b[0m \u001b[1;33m\u001b[0m\u001b[0m\n",
      "\u001b[1;31mValueError\u001b[0m: f(a) and f(b) must have different signs"
     ]
    }
   ],
   "source": [
    "halo.genTracers()"
   ]
  },
  {
   "cell_type": "code",
   "execution_count": null,
   "metadata": {},
   "outputs": [],
   "source": [
    "n=100\n",
    "xlist = np.linspace(0,halo.r_delta,n)\n",
    "ylist = []\n",
    "print(xlist)\n",
    "for i in range(n):\n",
    "    ylist.append(halo.radialCDF(xlist[i]))\n",
    "plt.plot(xlist,ylist)"
   ]
  },
  {
   "cell_type": "code",
   "execution_count": 155,
   "metadata": {},
   "outputs": [],
   "source": [
    "np.zeros((3,2))\n",
    "rng = default_rng()\n",
    "default_rng().random()\n",
    "A = np.array([2,3,4,5])\n",
    "B = np.array([11,22,33,44])\n",
    "C = np.array([A,B])"
   ]
  },
  {
   "cell_type": "code",
   "execution_count": 156,
   "metadata": {},
   "outputs": [
    {
     "data": {
      "text/plain": [
       "0.7577792502772075"
      ]
     },
     "execution_count": 156,
     "metadata": {},
     "output_type": "execute_result"
    }
   ],
   "source": [
    "def test(x):\n",
    "    return 2*x-1\n",
    "\n",
    "def test_mod(x):\n",
    "    return test(x) - default_rng().random(1)\n",
    "optimize.root_scalar( test_mod, bracket = (-5,5) ).root"
   ]
  },
  {
   "cell_type": "code",
   "execution_count": null,
   "metadata": {},
   "outputs": [],
   "source": []
  },
  {
   "cell_type": "code",
   "execution_count": 172,
   "metadata": {},
   "outputs": [
    {
     "data": {
      "text/plain": [
       "[<matplotlib.lines.Line2D at 0x2366d54fb20>]"
      ]
     },
     "execution_count": 172,
     "metadata": {},
     "output_type": "execute_result"
    },
    {
     "data": {
      "image/png": "[encoded data removed]",
      "text/plain": [
       "<Figure size 432x288 with 1 Axes>"
      ]
     },
     "metadata": {
      "needs_background": "light"
     },
     "output_type": "display_data"
    }
   ],
   "source": [
    "halo.radialCDF(.999*halo.r_delta)\n",
    "\n",
    "CDF = []\n",
    "PDF_est = []\n",
    "for i in range(100):\n",
    "    rad = (i/100)*halo.r_delta\n",
    "    CDF.append(halo.radialCDF(rad))\n",
    "    if i>1:\n",
    "        PDF_est.append(CDF[i]-CDF[i-1])\n",
    "    \n",
    "plt.plot(CDF)\n",
    "plt.plot(PDF_est)"
   ]
  },
  {
   "cell_type": "code",
   "execution_count": null,
   "metadata": {},
   "outputs": [],
   "source": []
  },
  {
   "cell_type": "code",
   "execution_count": null,
   "metadata": {},
   "outputs": [],
   "source": []
  },
  {
   "cell_type": "code",
   "execution_count": null,
   "metadata": {},
   "outputs": [],
   "source": []
  }
 ],
 "metadata": {
  "kernelspec": {
   "display_name": "Python 3",
   "language": "python",
   "name": "python3"
  },
  "language_info": {
   "codemirror_mode": {
    "name": "ipython",
    "version": 3
   },
   "file_extension": ".py",
   "mimetype": "text/x-python",
   "name": "python",
   "nbconvert_exporter": "python",
   "pygments_lexer": "ipython3",
   "version": "3.8.5"
  }
 },
 "nbformat": 4,
 "nbformat_minor": 4
}
