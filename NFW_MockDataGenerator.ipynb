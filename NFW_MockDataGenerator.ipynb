{
 "cells": [
  {
   "cell_type": "code",
   "execution_count": 165,
   "metadata": {},
   "outputs": [],
   "source": [
    "import numpy as np\n",
    "import scipy\n",
    "from scipy import special\n",
    "from scipy import integrate\n",
    "from scipy import interpolate\n",
    "from scipy import stats\n",
    "from scipy import optimize\n",
    "from numpy.random import default_rng\n",
    "\n",
    "import time\n",
    "\n",
    "import matplotlib\n",
    "from matplotlib import pyplot as plt\n",
    "from mpl_toolkits.mplot3d import Axes3D"
   ]
  },
  {
   "cell_type": "markdown",
   "metadata": {},
   "source": [
    "<h1>Making an NFW halo</h1>\n",
    "\n",
    "<h2>Important equations:</h2>\n",
    "\n",
    "mass density $\\rho (r)$:\n",
    "\\begin{equation}\n",
    "\\rho (r) = \\frac{\\rho_o}{\\frac{r}{a}\\left(1+\\frac{r}{a}\\right)^2}\n",
    "\\end{equation}\n",
    "\n",
    "total mass at radius r $M (r)$:\n",
    "\\begin{equation}\n",
    "M (r) = 4 \\pi \\rho_o a^3 \\left( ln\\left(1+\\frac{r}{a}\\right) - \\frac{\\frac{r}{a}}{1+\\frac{r}{a}}\\right)\n",
    "\\end{equation}\n",
    "\n",
    "potential at radius r $\\Phi (r)$:\n",
    "\\begin{equation}\n",
    "\\Phi (r) = -4 \\pi G \\rho_o a^2 \\frac{ln\\left(1+\\frac{r}{a}\\right)}{\\frac{r}{a}}\n",
    "\\end{equation}\n",
    "\n",
    "We can define some distant radius $r_\\Delta$ where $\\rho (r_\\Delta)=\\Delta\\cdot\\rho_c$ where $\\rho_c$ is the cosmological critical density and $\\Delta$ is some number, usually 200. This radius $r_\\Delta$ is usually quite a bit bigger than the scale radius a, and the ratio between these quantities is usually characterized by the \"concentration\" of the halo:\n",
    "$c=\\frac{r_\\Delta}{a}$\n",
    "\n",
    "<h2>Generating the radial distribution</h2>\n",
    "The differential bit of mass contained in a shell of thickness dr at radius r is given by:\n",
    "\\begin{equation}\n",
    "    dM(r) = 4\\pi r^2 \\rho (r) dr.\n",
    "\\end{equation}\n",
    "\n",
    "Integrating this differential shell of mass up to some radius tells how much mass in enclosed in a volume up to a certain volume. Dividing by some total mass (defined by the mass enclosed at $r_\\Delta$) we now have an idea of what fraction of mass is enclosed up to any radius. This is equivalent to the cumulative distribution function for the radius of tracers in the halo:\n",
    "\\begin{equation}\n",
    "    \\text{CDF(r)} = \\frac{M(r)}{M(r_{200})} = \\frac{\\int_0^r {r'}^2 \\frac{\\rho0}{\\left(\\frac{r'}{a}\\right)\\left(1+\\frac{r'}{a}\\right)^2} dr'} {\\int_0^{r_{200}} {r'}^2 \\frac{\\rho0}{\\left(\\frac{r'}{a}\\right)\\left(1+\\frac{r'}{a}\\right)^2} dr'}\n",
    "\\end{equation}\n",
    "\n",
    "We can pick a radius at random, but that will only create a flat probability distribution in r. We need a way to systematic way to encode the bumpiness of the distribution in our random number generation. Since we can explicitly compute the CDF we can sample a better way: inverse transform sampling.\n",
    "\n",
    "The CDF for the radii of tracers in the halo can be written in terms of nice dimensionless variables:\n",
    "\\begin{equation}\n",
    "    \\text{CDF}(\\chi) = \\frac{ln(1+c\\chi) - \\frac{c\\chi}{1+c\\chi}} {ln(1+c) - \\frac{c}{1+c}};\\:(0<\\chi<1)\n",
    "\\end{equation}\n",
    "\n",
    "where $\\chi=\\frac{r}{r_\\Delta}$ and $c=\\frac{r_\\Delta}{a}$ (as previously defined)."
   ]
  },
  {
   "cell_type": "code",
   "execution_count": 452,
   "metadata": {},
   "outputs": [],
   "source": [
    "class haloNFW(): # Our NFW halo object\n",
    "    def __init__(self,nTracers,rScale,rho0,delta,rhoCritical=1.26*10**-7):\n",
    "        \"\"\"\n",
    "        NFW Halo. This init just stores some of the arguments passed in and computes some important/handy quantities.\n",
    "        \"\"\"\n",
    "        self.nTracers = nTracers\n",
    "        self.rScale = rScale # this is sometimes called a\n",
    "        self.rho0 = rho0\n",
    "        self.delta = delta\n",
    "        self.rhoCritical = rhoCritical # solar masses/Mpc^3\n",
    "        rhoNorm = self.rho0/(self.delta*self.rhoCritical)\n",
    "        cShortcut = ((3.*np.sqrt(81.*rhoNorm**2. + 12.*rhoNorm) + 27.*rhoNorm + 2.)/2.)**(1./3.)\n",
    "        \n",
    "        self.c = ( cShortcut + 1./cShortcut - 2 )/3.\n",
    "        self.rDelta = self.c*self.rScale\n",
    "        self.G = 4.3009*10**-3 # Newton's constant, (pc/solar mass) * (km/second)^2\n",
    "        self.mHalo = (4*np.pi*self.rho0*self.rScale**3)*self.gFcn(self.c) # Should be in units of solar masses\n",
    "        self.virialSpeed = np.sqrt(self.G*self.mHalo/self.rDelta)\n",
    "        \n",
    "    def nfwPotential(self, radiusNorm):\n",
    "        \"\"\"\n",
    "        The potential (integrated GM/r^2 from +inf to r) at a given normalized radius.\n",
    "        \"\"\"\n",
    "        return -(4*np.pi*self.rho0*self.G*self.rScale**2)*(np.log(1+self.c*radiusNorm)/(self.c*radiusNorm))\n",
    "        \n",
    "    def radialCDF(self,radiusNorm):\n",
    "        \"\"\"\n",
    "        This is the radial cumulative distribution function for an NFW halo. Takes an un-normalized radius and spits out the probability for\n",
    "        r to be between 0 and the input radius. When paired with inverse transform sampling, you can rebuild the radial distribution function\n",
    "        with a small set of tracers.\n",
    "        \"\"\"\n",
    "        if 0<=radiusNorm<=1:\n",
    "            return self.gFcn(self.c*radiusNorm)/self.gFcn(self.c)\n",
    "        else:\n",
    "            print(\"Out of acceptable radial bounds\")\n",
    "    \n",
    "    def randomNum(self,n=1):\n",
    "        \"\"\"\n",
    "        Basic implementation of the new scipy random number generation. Creates a new generator and calls the .random(n) method\n",
    "        which returns n random numbers uniformly distributed between 0 and 1.\n",
    "        \"\"\"\n",
    "        return default_rng().random(n) # generates n random numbers\n",
    "    \n",
    "    def inverseTransformSampling(self, CDF, bracket, nSamples):\n",
    "        \"\"\"\n",
    "        Simple implementation of inverseTransformSampling. Currently a little slow since I need to loop though each sample instead of doing it\n",
    "        in one step that can be parallelized. You win some, you lose some. Anyways, this takes any cumulative distribution function (CDF), subtracts\n",
    "        some random offset from it between 0 and 1, and then finds the root of that offset CDF. When you repeat this process and record the roots,\n",
    "        you actually recover the original distribution function and can draw from it truly at random.\n",
    "        \"\"\"\n",
    "        result = []\n",
    "        CDFsubRandomNumber = lambda x: CDF(x) - self.randomNum(1) # Need a modified CDF where we subtract some random offset each time it's called.\n",
    "        for i in range(nSamples):\n",
    "            result.append( optimize.root_scalar( CDFsubRandomNumber , bracket = bracket ).root )\n",
    "        \n",
    "        return result\n",
    "    \n",
    "    def genTracerCoords(self):\n",
    "        \"\"\"\n",
    "        Our halo needs tracer stars, and those tracer stars need coordinates! (otherwise they wouldn't be anywhere...) You should probably avoid\n",
    "        calling this function, since the calculation of velocities will actually need the list of radii this function generates. If you were to\n",
    "        generate these radii, then generate velocities, but then generate radii again the velocities wouldn't update. So this should only be called\n",
    "        in the genTracers() method.\n",
    "        \n",
    "        This defines two class properties: radii and sphericalCoordinateAngles. radii is self-explanatory, sphericalCoordinateAngles is a 2-row array where the first\n",
    "        row is the list of polar angles (theta) called like sphericalCoordinateAngles[0,:] and the second row is the list of azimuthal angles (phi) called like\n",
    "        sphericalCoordinateAngles[1,:].\n",
    "        \"\"\"\n",
    "        self.radii = self.inverseTransformSampling( self.radialCDF, bracket = (0, 1), nSamples = self.nTracers)\n",
    "        self.radiiNorm = self.radii / self.rDelta\n",
    "        self.coordAngles = np.array(\n",
    "            [self.randomNum(self.nTracers)*np.pi,\n",
    "             self.randomNum(self.nTracers)*2*np.pi]\n",
    "        ) # first row is theta, second row is phi\n",
    "\n",
    "    def gFcn(self,x):\n",
    "        \"\"\"\n",
    "        Helper function since things like this turn up a lot in NFW profiles.\n",
    "        \"\"\"\n",
    "        return np.log(1+x)-(x/(1+x))\n",
    "    \n",
    "    def radialVelocityDispersion(self,radiusNorm):\n",
    "        \"\"\"\n",
    "        We are approximating the velocity distribution of the tracer stars with a Maxwell-Boltzmann distribution. The first moment of this\n",
    "        distribution of radial velocities should be zero, so we're actually extracting the 2nd moment and calling it the dispersion. Then,\n",
    "        I'm plugging this dispersion into a distribution of speeds (hopefully translating all of the factors correctly?) to get a speed distribution\n",
    "        to generate random velocities from.\n",
    "        \"\"\"\n",
    "        return np.sqrt(self.virialSpeed**2*\\\n",
    "                       ((self.c*radiusNorm*(1+self.c*radiusNorm)**2)/self.gFcn(self.c))*\\\n",
    "                       integrate.quad(lambda y: self.gFcn(y)/(y**3*(1+y)**2), self.c*radiusNorm, np.inf)[0]\n",
    "                      )\n",
    "    \n",
    "    def speedPDF(self,speed,radiusNorm):\n",
    "        \"\"\"\n",
    "        The probability distribution function for the speed of a tracer at a given radius. Supply this with a speed below the the virial speed or the kinematic limit\n",
    "        and a radius below the virial radius, and this will return the probability to have that speed at that radius.\n",
    "        \"\"\"\n",
    "        dispSquared = self.radialVelocityDispersion(radiusNorm)**2\n",
    "        return (1/(2*np.pi*dispSquared))**(3/2)*(4*np.pi*speed**2)*np.exp(-speed**2/(2*dispSquared))\n",
    "        \n",
    "    def speedCDF(self,speed,radiusNorm):\n",
    "        \"\"\"\n",
    "        Integrates the speed PDF up from 0 to the given speed, at a particular (normalized) radius.\n",
    "        \"\"\"\n",
    "        dispSquared = self.radialVelocityDispersion(radiusNorm)**2\n",
    "        #integrate.quad( lambda s: self.speedPDF(s,radiusNorm), 0, speed)[0]\n",
    "        return special.erf(speed/np.sqrt(2*dispSquared)) - np.sqrt(2/(np.pi*dispSquared))*speed*np.exp(-speed**2/(2*dispSquared))\n",
    "    \n",
    "    def speedCDFeval(self,speed):\n",
    "        return speedCDF\n",
    "    \n",
    "    def plotSpeedCDF(self,radiusNorm,steps=100):\n",
    "        \"\"\"\n",
    "        Debug method to plot the CDF and see if it's behaving properly.\n",
    "        \"\"\"\n",
    "        v = np.linspace(0,self.maxSpeed(radiusNorm),steps)\n",
    "        cdf = []\n",
    "        for i in range(steps):\n",
    "            cdf.append(self.speedCDF(v[i], radiusNorm))\n",
    "        plt.scatter(v,cdf)\n",
    "        \n",
    "    def plotSpeedPDF(self,radiusNorm,steps=100):\n",
    "        \"\"\"\n",
    "        Debug method to plot the PDF and see if it's behaving properly.\n",
    "        \"\"\"\n",
    "        v = np.linspace(0,self.maxSpeed(radiusNorm),steps)\n",
    "        pdf = []\n",
    "        for i in range(steps):\n",
    "            pdf.append(self.speedPDF(v[i], radiusNorm))\n",
    "        plt.scatter(v,pdf)\n",
    "        \n",
    "    def maxSpeed(self,radiusNorm):\n",
    "        \"\"\"\n",
    "        Gives the max speed (the kinematic limit) at a particular radius. This is when a particle has enough kinetic energy to climb out of its potential (when KE=PE).\n",
    "        \"\"\"\n",
    "        return np.sqrt(np.abs(2*self.nfwPotential(radiusNorm)))\n",
    "    \n",
    "    def genTracerVelocities(self):\n",
    "        \"\"\"\n",
    "        This should build a list of tracer speeds + directions using the speedCDF we define earlier via inverse transform sampling.\n",
    "        \"\"\"\n",
    "        self.speeds = []\n",
    "        self.time = []\n",
    "        self.time.append(time.time())\n",
    "        for i in range(self.nTracers):\n",
    "            self.speeds.append(self.inverseTransformSampling(lambda v: self.speedCDF(v,self.radiiNorm[i]), bracket = ( 0, self.maxSpeed(self.radiiNorm[i]) ), nSamples = 1)[0])\n",
    "            if i % int(self.nTracers/10) == 0:\n",
    "                self.time.append(time.time())\n",
    "                print(\"step \" + str(i) + \", average step time was: \" + str((self.time[-1]-self.time[-2])/10))\n",
    "        self.velocityAngles = np.array(\\\n",
    "                                       [self.randomNum(self.nTracers)*np.pi,\\\n",
    "                                        self.randomNum(self.nTracers)*2*np.pi]\\\n",
    "                                      ) # first row is theta, second row is phi\n",
    "\n",
    "    def genTracers(self):\n",
    "        \"\"\"\n",
    "        Should automatically generate a full set of tracer particles with coordinates and velocities that obey an NFW profile.\n",
    "        \"\"\"\n",
    "        self.genTracerCoords()\n",
    "        self.genTracerVelocities()\n",
    "        self.sphericalPhaseSpacePoints = [self.radii,\n",
    "                                          self.coordAngles,\n",
    "                                          self.speeds,\n",
    "                                          self.velocityAngles]"
   ]
  },
  {
   "cell_type": "code",
   "execution_count": 453,
   "metadata": {},
   "outputs": [],
   "source": [
    "# Let's make a halo!\n",
    "\n",
    "nTracers = 1000\n",
    "rScale = 8.1*10**3 # Lin, Li \"The Dark Matter Profiles in the Milky Way\" https://arxiv.org/abs/1906.08419\n",
    "mwHaloDensity = 7.18 * 10 ** -3 # Solar masses per cubic parsec, Milky way DM halo density (SOFUE 2011)\n",
    "delta = 200\n",
    "criticalDensity = 1.26 * 10 ** -7 # Solar masses per cubic parsec\n",
    "\n",
    "mwHalo = haloNFW(nTracers,rScale,mwHaloDensity,delta,criticalDensity)"
   ]
  },
  {
   "cell_type": "code",
   "execution_count": 454,
   "metadata": {},
   "outputs": [
    {
     "name": "stdout",
     "output_type": "stream",
     "text": [
      "rScale is : 8100.0 , rDelta is: 48041.27060252\n",
      "the concentration must then be: 5.931021062039506\n"
     ]
    }
   ],
   "source": [
    "print('rScale is : '+str(mwHalo.rScale),', rDelta is: ' + str(mwHalo.rDelta))\n",
    "print('the concentration must then be: ' + str(mwHalo.c))"
   ]
  },
  {
   "cell_type": "code",
   "execution_count": 455,
   "metadata": {},
   "outputs": [],
   "source": [
    "mwHalo.genTracerCoords()"
   ]
  },
  {
   "cell_type": "code",
   "execution_count": 456,
   "metadata": {},
   "outputs": [
    {
     "name": "stdout",
     "output_type": "stream",
     "text": [
      "48041.27060252\n"
     ]
    },
    {
     "data": {
      "image/png": "[encoded data removed]",
      "text/plain": [
       "<Figure size 432x288 with 1 Axes>"
      ]
     },
     "metadata": {
      "needs_background": "light"
     },
     "output_type": "display_data"
    }
   ],
   "source": [
    "plt.hist(mwHalo.radii,100)\n",
    "print(mwHalo.rDelta)"
   ]
  },
  {
   "cell_type": "code",
   "execution_count": 457,
   "metadata": {},
   "outputs": [],
   "source": [
    "x = mwHalo.radii*np.sin(mwHalo.coordAngles[0,:])*np.cos(mwHalo.coordAngles[1,:])\n",
    "y = mwHalo.radii*np.sin(mwHalo.coordAngles[0,:])*np.sin(mwHalo.coordAngles[1,:])\n",
    "z = mwHalo.radii*np.cos(mwHalo.coordAngles[0,:])"
   ]
  },
  {
   "cell_type": "code",
   "execution_count": 458,
   "metadata": {},
   "outputs": [
    {
     "data": {
      "text/plain": [
       "68.0983347390944"
      ]
     },
     "execution_count": 458,
     "metadata": {},
     "output_type": "execute_result"
    },
    {
     "data": {
      "image/png": "[encoded data removed]",
      "text/plain": [
       "<Figure size 432x288 with 1 Axes>"
      ]
     },
     "metadata": {
      "needs_background": "light"
     },
     "output_type": "display_data"
    }
   ],
   "source": [
    "fig = plt.figure()\n",
    "ax = fig.add_subplot(111, projection='3d')\n",
    "ax.scatter(x,y,z,c=mwHalo.radii)\n",
    "mwHalo.virialSpeed"
   ]
  },
  {
   "cell_type": "code",
   "execution_count": 459,
   "metadata": {},
   "outputs": [
    {
     "data": {
      "text/plain": [
       "199.9527404809701"
      ]
     },
     "execution_count": 459,
     "metadata": {},
     "output_type": "execute_result"
    }
   ],
   "source": [
    "mwHalo.maxSpeed(.1)"
   ]
  },
  {
   "cell_type": "code",
   "execution_count": 460,
   "metadata": {},
   "outputs": [
    {
     "name": "stdout",
     "output_type": "stream",
     "text": [
      "step 0, average step time was: 0.002480006217956543\n",
      "step 100, average step time was: 0.3161508560180664\n",
      "step 200, average step time was: 0.3066763162612915\n",
      "step 300, average step time was: 0.3080164670944214\n",
      "step 400, average step time was: 0.3018652439117432\n",
      "step 500, average step time was: 0.3106945276260376\n",
      "step 600, average step time was: 0.3200193166732788\n",
      "step 700, average step time was: 0.31114044189453127\n",
      "step 800, average step time was: 0.3094047784805298\n",
      "step 900, average step time was: 0.29690558910369874\n"
     ]
    }
   ],
   "source": [
    "mwHalo.genTracers()"
   ]
  },
  {
   "cell_type": "code",
   "execution_count": 462,
   "metadata": {},
   "outputs": [
    {
     "data": {
      "text/plain": [
       "(array([ 1.,  0.,  0.,  1.,  1.,  2.,  3.,  3.,  3.,  2.,  5.,  2.,  5.,\n",
       "         7.,  7.,  6.,  8., 10., 10., 27., 15., 10., 10., 15., 21., 18.,\n",
       "        28., 24., 16., 20., 23., 13., 25., 31., 22., 32., 26., 20., 23.,\n",
       "        18., 26., 32., 19., 23., 23., 24., 20., 24., 15., 22., 17., 16.,\n",
       "        13., 23., 18., 13., 10., 15., 16.,  9.,  9.,  7.,  4.,  8.,  8.,\n",
       "         8.,  5.,  8.,  1.,  5.,  3.,  5.,  6.,  2.,  3.,  1.,  1.,  3.,\n",
       "         3.,  0.,  0.,  2.,  4.,  0.,  1.,  1.,  2.,  0.,  0.,  1.,  1.,\n",
       "         0.,  0.,  0.,  1.,  0.,  0.,  0.,  0.,  0.,  0.,  0.,  0.,  0.,\n",
       "         0.,  0.,  0.,  0.,  0.,  0.,  0.,  0.,  1.,  0.,  0.,  0.,  1.,\n",
       "         0.,  1.,  1.,  0.,  0.,  0.,  0.,  0.,  0.,  0.,  0.,  0.,  0.,\n",
       "         0.,  1.,  0.,  0.,  0.,  0.,  0.,  0.,  0.,  0.,  0.,  0.,  0.,\n",
       "         0.,  0.,  0.,  0.,  0.,  0.,  0.,  0.,  0.,  0.,  0.,  0.,  0.,\n",
       "         0.,  0.,  0.,  0.,  0.,  0.,  0.,  0.,  0.,  0.,  0.,  0.,  0.,\n",
       "         0.,  0.,  0.,  0.,  0.,  0.,  0.,  0.,  0.,  0.,  0.,  0.,  0.,\n",
       "         0.,  0.,  0.,  0.,  0.,  0.,  0.,  0.,  0.,  0.,  0.,  0.,  0.,\n",
       "         0.,  0.,  0.,  0.,  1.]),\n",
       " array([0.3113317 , 0.34190132, 0.37247093, 0.40304055, 0.43361016,\n",
       "        0.46417977, 0.49474939, 0.525319  , 0.55588862, 0.58645823,\n",
       "        0.61702785, 0.64759746, 0.67816708, 0.70873669, 0.73930631,\n",
       "        0.76987592, 0.80044554, 0.83101515, 0.86158477, 0.89215438,\n",
       "        0.92272399, 0.95329361, 0.98386322, 1.01443284, 1.04500245,\n",
       "        1.07557207, 1.10614168, 1.1367113 , 1.16728091, 1.19785053,\n",
       "        1.22842014, 1.25898976, 1.28955937, 1.32012899, 1.3506986 ,\n",
       "        1.38126821, 1.41183783, 1.44240744, 1.47297706, 1.50354667,\n",
       "        1.53411629, 1.5646859 , 1.59525552, 1.62582513, 1.65639475,\n",
       "        1.68696436, 1.71753398, 1.74810359, 1.77867321, 1.80924282,\n",
       "        1.83981243, 1.87038205, 1.90095166, 1.93152128, 1.96209089,\n",
       "        1.99266051, 2.02323012, 2.05379974, 2.08436935, 2.11493897,\n",
       "        2.14550858, 2.1760782 , 2.20664781, 2.23721743, 2.26778704,\n",
       "        2.29835665, 2.32892627, 2.35949588, 2.3900655 , 2.42063511,\n",
       "        2.45120473, 2.48177434, 2.51234396, 2.54291357, 2.57348319,\n",
       "        2.6040528 , 2.63462242, 2.66519203, 2.69576165, 2.72633126,\n",
       "        2.75690087, 2.78747049, 2.8180401 , 2.84860972, 2.87917933,\n",
       "        2.90974895, 2.94031856, 2.97088818, 3.00145779, 3.03202741,\n",
       "        3.06259702, 3.09316664, 3.12373625, 3.15430587, 3.18487548,\n",
       "        3.21544509, 3.24601471, 3.27658432, 3.30715394, 3.33772355,\n",
       "        3.36829317, 3.39886278, 3.4294324 , 3.46000201, 3.49057163,\n",
       "        3.52114124, 3.55171086, 3.58228047, 3.61285009, 3.6434197 ,\n",
       "        3.67398931, 3.70455893, 3.73512854, 3.76569816, 3.79626777,\n",
       "        3.82683739, 3.857407  , 3.88797662, 3.91854623, 3.94911585,\n",
       "        3.97968546, 4.01025508, 4.04082469, 4.07139431, 4.10196392,\n",
       "        4.13253353, 4.16310315, 4.19367276, 4.22424238, 4.25481199,\n",
       "        4.28538161, 4.31595122, 4.34652084, 4.37709045, 4.40766007,\n",
       "        4.43822968, 4.4687993 , 4.49936891, 4.52993853, 4.56050814,\n",
       "        4.59107775, 4.62164737, 4.65221698, 4.6827866 , 4.71335621,\n",
       "        4.74392583, 4.77449544, 4.80506506, 4.83563467, 4.86620429,\n",
       "        4.8967739 , 4.92734352, 4.95791313, 4.98848275, 5.01905236,\n",
       "        5.04962197, 5.08019159, 5.1107612 , 5.14133082, 5.17190043,\n",
       "        5.20247005, 5.23303966, 5.26360928, 5.29417889, 5.32474851,\n",
       "        5.35531812, 5.38588774, 5.41645735, 5.44702697, 5.47759658,\n",
       "        5.50816619, 5.53873581, 5.56930542, 5.59987504, 5.63044465,\n",
       "        5.66101427, 5.69158388, 5.7221535 , 5.75272311, 5.78329273,\n",
       "        5.81386234, 5.84443196, 5.87500157, 5.90557119, 5.9361408 ,\n",
       "        5.96671041, 5.99728003, 6.02784964, 6.05841926, 6.08898887,\n",
       "        6.11955849, 6.1501281 , 6.18069772, 6.21126733, 6.24183695,\n",
       "        6.27240656, 6.30297618, 6.33354579, 6.36411541, 6.39468502,\n",
       "        6.42525463]),\n",
       " <BarContainer object of 200 artists>)"
      ]
     },
     "execution_count": 462,
     "metadata": {},
     "output_type": "execute_result"
    },
    {
     "data": {
      "image/png": "[encoded data removed]",
      "text/plain": [
       "<Figure size 432x288 with 1 Axes>"
      ]
     },
     "metadata": {
      "needs_background": "light"
     },
     "output_type": "display_data"
    }
   ],
   "source": [
    "mwHalo.speeds[0:2]\n",
    "plt.hist(mwHalo.speeds,200)"
   ]
  },
  {
   "cell_type": "code",
   "execution_count": null,
   "metadata": {},
   "outputs": [],
   "source": []
  },
  {
   "cell_type": "code",
   "execution_count": null,
   "metadata": {},
   "outputs": [],
   "source": []
  },
  {
   "cell_type": "code",
   "execution_count": null,
   "metadata": {},
   "outputs": [],
   "source": []
  }
 ],
 "metadata": {
  "kernelspec": {
   "display_name": "Python 3",
   "language": "python",
   "name": "python3"
  },
  "language_info": {
   "codemirror_mode": {
    "name": "ipython",
    "version": 3
   },
   "file_extension": ".py",
   "mimetype": "text/x-python",
   "name": "python",
   "nbconvert_exporter": "python",
   "pygments_lexer": "ipython3",
   "version": "3.8.5"
  }
 },
 "nbformat": 4,
 "nbformat_minor": 4
}
