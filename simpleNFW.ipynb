{
 "cells": [
  {
   "cell_type": "code",
   "execution_count": 1,
   "metadata": {},
   "outputs": [],
   "source": [
    "import numpy as np\n",
    "import scipy\n",
    "from scipy import integrate\n",
    "from numpy.random import default_rng\n",
    "from multiprocessing import Pool\n",
    "import nfwFunctions as NFW\n",
    "import inverseTransform\n",
    "import time\n",
    "\n",
    "from scipy import special\n",
    "import matplotlib as mpl\n",
    "from matplotlib import pyplot as plt\n",
    "from mpl_toolkits.mplot3d import Axes3D\n",
    "\n",
    "plt.rcParams['figure.autolayout'] = False\n",
    "plt.rcParams['figure.figsize'] = 10, 6\n",
    "plt.rcParams['axes.labelsize'] = 18\n",
    "plt.rcParams['axes.titlesize'] = 15\n",
    "plt.rcParams['font.size'] = 16\n",
    "plt.rcParams['lines.linewidth'] = 2.0\n",
    "plt.rcParams['lines.markersize'] = 8\n",
    "plt.rcParams['legend.fontsize'] = 14\n",
    "mpl.rc('axes',edgecolor='k')\n",
    "plt.rcParams['xtick.color'] = 'k'\n",
    "plt.rcParams['ytick.color'] = 'k'"
   ]
  },
  {
   "cell_type": "code",
   "execution_count": 48,
   "metadata": {},
   "outputs": [
    {
     "ename": "SyntaxError",
     "evalue": "invalid syntax (<ipython-input-48-bbe155c175da>, line 2)",
     "output_type": "error",
     "traceback": [
      "\u001b[1;36m  File \u001b[1;32m\"<ipython-input-48-bbe155c175da>\"\u001b[1;36m, line \u001b[1;32m2\u001b[0m\n\u001b[1;33m    def __init__\u001b[0m\n\u001b[1;37m                ^\u001b[0m\n\u001b[1;31mSyntaxError\u001b[0m\u001b[1;31m:\u001b[0m invalid syntax\n"
     ]
    }
   ],
   "source": [
    "class halo():\n",
    "    def __init__(self, rScale, rho0, delta, rhoCritical = 1.26*10**-7):\n",
    "        self.rho0 = rho0\n",
    "        self.rScale = rScale\n",
    "        self.G = 4.3009*10**-3\n",
    "        self.rhoCritical = rhoCritical\n",
    "        self.delta = delta\n",
    "        rhoNorm = rho0/(delta*rhoCritical)\n",
    "        cShortcut = ((3.*np.sqrt(81.*rhoNorm**2. + 12.*rhoNorm) + 27.*rhoNorm + 2.)/2.)**(1./3.)\n",
    "        self.c = ( cShortcut + 1./cShortcut - 2 )/3. # Halo attribute 5\n",
    "        self.rDelta = self.c*self.rScale\n",
    "        \n",
    "    def relativeEnergy(self,r,s):\n",
    "        return 4*np.pi*self.rho0*self.G*self.rScale**2*(np.log(1+r/rScale)/(r/rScale) - np.log(1+rDelta/rScale)/(rDelta/rScale)) - (1/2)*s**2\n",
    "    \n",
    "    def relativePotential(self,r):\n",
    "        return 4*np.pi*self.rho0*self.G*self.rScale**2*(np.log(1+(r/rScale))/(r/rScale) - np.log(1+(rDelta/rScale))/(rDelta/rScale))\n",
    "    \n",
    "    def phaseSpaceDensity(self,r,s):\n",
    "        const = 4*np.pi*self.rho0*self.G*self.rScale**2\n",
    "        prefactor = -self.rho0/(const**3*np.sqrt(8)*np.pi**2)\n",
    "        \n",
    "        integrand = lambda psi: prefactor*(psi/const)*(4*psi+3*(const+2*psi)*special.lambertw((-psi/const)*np.exp(-psi/const),-1)+6*const*special.lambertw((-psi/const)*np.exp(-psi/const),-1)**2)/(np.sqrt(np.abs(eps-psi))*special.lambertw((-psi/const)*np.exp(-psi/const),-1)**2*(1+special.lambertw((-psi/const)*np.exp(-psi/const),-1))**3)\n",
    "        #print(eps,psi)\n",
    "        return (4*np.pi*r*s)**2*integrate.quad(integrand,0,eps)[0]"
   ]
  },
  {
   "cell_type": "code",
   "execution_count": null,
   "metadata": {},
   "outputs": [],
   "source": [
    "rScale = 8.1*10**3 # Lin, Li \"The Dark Matter Profiles in the Milky Way\" https://arxiv.org/abs/1906.08419\n",
    "mwHaloDensity = 7.18 * 10 ** -3 # Solar masses per cubic parsec, Milky way DM halo density (SOFUE 2011)\n",
    "delta = 200\n",
    "criticalDensity = 1.26 * 10 ** -7 # Solar masses per cubic parsec\n",
    "\n",
    "# Create an instance of the nfwHalo class\n",
    "mwHalo = halo(rScale,mwHaloDensity,delta,criticalDensity)"
   ]
  },
  {
   "cell_type": "code",
   "execution_count": 35,
   "metadata": {},
   "outputs": [
    {
     "data": {
      "text/plain": [
       "34534303619240.36"
      ]
     },
     "execution_count": 35,
     "metadata": {},
     "output_type": "execute_result"
    }
   ],
   "source": [
    "phaseSpaceDensity(10000,75)"
   ]
  },
  {
   "cell_type": "code",
   "execution_count": 46,
   "metadata": {},
   "outputs": [
    {
     "name": "stderr",
     "output_type": "stream",
     "text": [
      "<ipython-input-34-88228a3f9dc4>:15: RuntimeWarning: invalid value encountered in double_scalars\n",
      "  eps = const*(np.log(1+r/rScale)/(r/rScale) - np.log(1+rDelta/rScale)/(rDelta/rScale)) - (1/2)*s**2\n",
      "<ipython-input-34-88228a3f9dc4>:16: RuntimeWarning: invalid value encountered in double_scalars\n",
      "  psi = const*(np.log(1+r/rScale)/(r/rScale) - np.log(1+rDelta/rScale)/(rDelta/rScale))\n",
      "<ipython-input-34-88228a3f9dc4>:18: RuntimeWarning: invalid value encountered in cdouble_scalars\n",
      "  integrand = lambda psi: prefactor*(psi/const)*(4*psi+3*(const+2*psi)*special.lambertw((-psi/const)*np.exp(-psi/const),-1)+6*const*special.lambertw((-psi/const)*np.exp(-psi/const),-1)**2)/(np.sqrt(np.abs(eps-psi))*special.lambertw((-psi/const)*np.exp(-psi/const),-1)**2*(1+special.lambertw((-psi/const)*np.exp(-psi/const),-1))**3)\n",
      "<ipython-input-34-88228a3f9dc4>:18: RuntimeWarning: invalid value encountered in multiply\n",
      "  integrand = lambda psi: prefactor*(psi/const)*(4*psi+3*(const+2*psi)*special.lambertw((-psi/const)*np.exp(-psi/const),-1)+6*const*special.lambertw((-psi/const)*np.exp(-psi/const),-1)**2)/(np.sqrt(np.abs(eps-psi))*special.lambertw((-psi/const)*np.exp(-psi/const),-1)**2*(1+special.lambertw((-psi/const)*np.exp(-psi/const),-1))**3)\n",
      "<ipython-input-34-88228a3f9dc4>:20: IntegrationWarning: Extremely bad integrand behavior occurs at some points of the\n",
      "  integration interval.\n",
      "  return (4*np.pi*r*s)**2*integrate.quad(integrand,0,eps)[0]\n",
      "<ipython-input-34-88228a3f9dc4>:20: IntegrationWarning: The integral is probably divergent, or slowly convergent.\n",
      "  return (4*np.pi*r*s)**2*integrate.quad(integrand,0,eps)[0]\n"
     ]
    }
   ],
   "source": [
    "PDFimage = np.zeros((50,50))\n",
    "rMax = 40000\n",
    "sMax = 80\n",
    "\n",
    "for i in range(50):\n",
    "    r = rMax*(i/50)\n",
    "    for j in range(50):\n",
    "        s = sMax*(j/50)\n",
    "        PDFimage[i,j] = phaseSpaceDensity(r,s)"
   ]
  },
  {
   "cell_type": "code",
   "execution_count": 47,
   "metadata": {},
   "outputs": [
    {
     "data": {
      "text/plain": [
       "<matplotlib.image.AxesImage at 0x1c6351bf6a0>"
      ]
     },
     "execution_count": 47,
     "metadata": {},
     "output_type": "execute_result"
    },
    {
     "data": {
      "image/png": "[encoded data removed]",
      "text/plain": [
       "<Figure size 720x432 with 1 Axes>"
      ]
     },
     "metadata": {
      "needs_background": "light"
     },
     "output_type": "display_data"
    }
   ],
   "source": [
    "plt.imshow(PDFimage,origin='lower',aspect='auto',cmap='RdBu_r')"
   ]
  },
  {
   "cell_type": "code",
   "execution_count": null,
   "metadata": {},
   "outputs": [],
   "source": []
  }
 ],
 "metadata": {
  "kernelspec": {
   "display_name": "Python 3",
   "language": "python",
   "name": "python3"
  },
  "language_info": {
   "codemirror_mode": {
    "name": "ipython",
    "version": 3
   },
   "file_extension": ".py",
   "mimetype": "text/x-python",
   "name": "python",
   "nbconvert_exporter": "python",
   "pygments_lexer": "ipython3",
   "version": "3.8.5"
  }
 },
 "nbformat": 4,
 "nbformat_minor": 4
}
