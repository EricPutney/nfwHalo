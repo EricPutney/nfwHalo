{
 "cells": [
  {
   "cell_type": "code",
   "execution_count": 39,
   "metadata": {},
   "outputs": [],
   "source": [
    "import numpy as np\n",
    "import scipy\n",
    "from scipy import special\n",
    "from scipy import integrate\n",
    "from scipy import interpolate\n",
    "from scipy import stats\n",
    "from scipy import optimize\n",
    "from numpy.random import default_rng\n",
    "\n",
    "import time\n",
    "\n",
    "import matplotlib\n",
    "from matplotlib import pyplot as plt\n",
    "from mpl_toolkits.mplot3d import Axes3D"
   ]
  },
  {
   "cell_type": "markdown",
   "metadata": {},
   "source": [
    "<h1>Making an NFW halo</h1>\n",
    "\n",
    "<h2>Important equations:</h2>\n",
    "\n",
    "mass density $\\rho (r)$:\n",
    "\\begin{equation}\n",
    "\\rho (r) = \\frac{\\rho_o}{\\frac{r}{a}\\left(1+\\frac{r}{a}\\right)^2}\n",
    "\\end{equation}\n",
    "\n",
    "total mass at radius r $M (r)$:\n",
    "\\begin{equation}\n",
    "M (r) = 4 \\pi \\rho_o a^3 \\left( ln\\left(1+\\frac{r}{a}\\right) - \\frac{\\frac{r}{a}}{1+\\frac{r}{a}}\\right)\n",
    "\\end{equation}\n",
    "\n",
    "potential at radius r $\\Phi (r)$:\n",
    "\\begin{equation}\n",
    "\\Phi (r) = -4 \\pi G \\rho_o a^2 \\frac{ln\\left(1+\\frac{r}{a}\\right)}{\\frac{r}{a}}\n",
    "\\end{equation}\n",
    "\n",
    "We can define some distant radius $r_\\Delta$ where $\\rho (r_\\Delta)=\\Delta\\cdot\\rho_c$ where $\\rho_c$ is the cosmological critical density and $\\Delta$ is some number, usually 200. This number is usually quite a bit bigger than the scale radius a, and the ratio between these quantities is usually characterized by the \"concentration\" of the halo:\n",
    "$c=\\frac{r_\\Delta}{a}$\n",
    "\n",
    "<h2>Generating the radial distribution</h2>\n",
    "The differential bit of mass contained in a shell of thickness dr at radius r is given by:\n",
    "\\begin{equation}\n",
    "    dM(r) = 4\\pi r^2 \\rho (r) dr.\n",
    "\\end{equation}\n",
    "\n",
    "Integrating this differential shell of mass up to some radius tells how much mass in enclosed in a volume up to a certain volume. Dividing by some total mass (defined by the mass enclosed at $r_\\Delta$) we now have an idea of what fraction of mass is enclosed up to any radius. This is equivalent to the cumulative distribution function for the radius of tracers in the halo:\n",
    "\\begin{equation}\n",
    "    \\text{CDF(r)} = \\frac{M(r)}{M(r_{200})} = \\frac{\\int_0^r {r'}^2 \\frac{\\rho_0}{\\left(\\frac{r'}{a}\\right)\\left(1+\\frac{r'}{a}\\right)^2} dr'} {\\int_0^{r_{200}} {r'}^2 \\frac{\\rho_0}{\\left(\\frac{r'}{a}\\right)\\left(1+\\frac{r'}{a}\\right)^2} dr'}\n",
    "\\end{equation}\n",
    "\n",
    "We can pick a radius at random, but that will only create a flat probability distribution in r. We need a way to systematic way to encode the bumpiness of the distribution in our random number generation. Since we can explicitly compute the CDF we can sample a better way: inverse transform sampling.\n",
    "\n",
    "The CDF for the radii of tracers in the halo can be written in terms of nice dimensionless variables:\n",
    "\\begin{equation}\n",
    "    \\text{CDF}(\\chi) = \\frac{ln(1+c\\chi) - \\frac{c\\chi}{1+c\\chi}} {ln(1+c) - \\frac{c}{1+c}};\\:(0<\\chi<1)\n",
    "\\end{equation}\n",
    "\n",
    "where $\\chi=\\frac{r}{r_\\Delta}$ and $c=\\frac{r_\\Delta}{a}$ (as previously defined)."
   ]
  },
  {
   "cell_type": "code",
   "execution_count": 68,
   "metadata": {},
   "outputs": [],
   "source": [
    "class haloNFW(): # Our NFW halo object\n",
    "    def __init__(self,nTracers,a,r_delta,rho_0,critical_density=1.26*10**-7):\n",
    "        \"\"\"\n",
    "        NFW Halo. This init just stores some of the arguments passed in and computes some important/handy quantities.\n",
    "        \"\"\"\n",
    "        self.nTracers = nTracers\n",
    "        self.a = a\n",
    "        self.r_delta = r_delta\n",
    "        self.rho_0 = rho_0\n",
    "        self.rho_critical = critical_density # solar masses/Mpc^3\n",
    "        #c_term_1 = ((3*np.sqrt(3)*np.sqrt(27*self.rho_0**2/(self.delta*self.rho_critical)**2 \n",
    "        #                                  + 4*self.rho_0/(self.delta*self.rho_critical)) \n",
    "        #             + 27*self.rho_0/(self.delta*self.rho_critical) \n",
    "        #             + 2)/2)**(1/3)\n",
    "        #self.c = ( c_term_1 + 1./c_term_1 -2 )/3.\n",
    "        self.c = np.float64(self.r_delta / self.a)\n",
    "        self.G_SI = 6.67*10**-11 # SI Newton's constant, m^3/(kg*s^2)\n",
    "        self.G = 4.5*10**-32 # Newton's constant, pc**3/(solar mass * seconds**2)\n",
    "        self.G_natural = 1 # \"natural\" ;D\n",
    "        self.M_halo = 4*np.pi*self.rho_0*(np.log(1+self.c)-(self.c/(1+self.c)))\n",
    "        self.virial_speed = np.sqrt(self.G*self.M_halo/self.r_delta)\n",
    "        \n",
    "    def nfwPotential(self, r_norm):\n",
    "        return -4*np.pi*self.rho_0*self.a**3*np.log(1+self.c*r_norm)/(self.c*r_norm)\n",
    "        \n",
    "    def radialCDF(self,r):\n",
    "        \"\"\"\n",
    "        This is the radial cumulative distribution function for an NFW halo. Takes an un-normalized radius and spits out the probability for\n",
    "        r to be between 0 and the input radius. When paired with inverse transform sampling, you can rebuild the radial distribution function\n",
    "        with a small set of tracers.\n",
    "        \"\"\"\n",
    "        if 0<=r<=self.r_delta:\n",
    "            x = r/self.r_delta # It's much cleaner with a normalized radius.\n",
    "            return (np.log(1+self.c*x) - (self.c*x)/(1+self.c*x))/(np.log(1+self.c) - (self.c)/(1+self.c))\n",
    "        else:\n",
    "            print(\"Out of acceptable radial bounds\")\n",
    "    \n",
    "    def randomNum(self,n=1):\n",
    "        \"\"\"\n",
    "        Basic implementation of the new scipy random number generation. Creates a new generator and calls the .random(n) method\n",
    "        which returns n random numbers uniformly distributed between 0 and 1.\n",
    "        \"\"\"\n",
    "        return default_rng().random(n) # generates n random numbers\n",
    "    \n",
    "    def inverseTransformSampling(self, CDF, bracket, nSamples):\n",
    "        \"\"\"\n",
    "        Simple implementation of inverseTransformSampling. Currently a little slow since I need to loop though each sample instead of doing it\n",
    "        in one step that can be parallelized. You win some, you lose some. Anyways, this takes any cumulative distribution function (CDF), subtracts\n",
    "        some random offset from it between 0 and 1, and then finds the root of that offset CDF. When you repeat this process and record the roots,\n",
    "        you actually recover the original distribution function and can draw from it truly at random.\n",
    "        \"\"\"\n",
    "        result = []\n",
    "        CDFsubRandomNumber = lambda x: CDF(x) - self.randomNum(1) # Need a modified CDF where we subtract some random offset each time it's called.\n",
    "        for i in range(nSamples):\n",
    "            result.append( optimize.root_scalar( CDFsubRandomNumber , bracket = bracket ).root )\n",
    "            \n",
    "        return np.array(result)\n",
    "    \n",
    "    def genTracerCoords(self):\n",
    "        \"\"\"\n",
    "        Our halo needs tracer stars, and those tracer stars need coordinates! (otherwise they wouldn't be anywhere...) You should probably avoid\n",
    "        calling this function, since the calculation of velocities will actually need the list of radii this function generates. If you were to\n",
    "        generate these radii, then generate velocities, but then generate radii again the velocities wouldn't update. So this should only be called\n",
    "        in the genTracers() method.\n",
    "        \n",
    "        This defines two class properties: radii and sphericalCoordinateAngles. radii is self-explanatory, sphericalCoordinateAngles is a 2-row array where the first\n",
    "        row is the list of polar angles (theta) called like sphericalCoordinateAngles[0,:] and the second row is the list of azimuthal angles (phi) called like\n",
    "        sphericalCoordinateAngles[1,:].\n",
    "        \"\"\"\n",
    "        self.radii = self.inverseTransformSampling( self.radialCDF, bracket = (0, self.r_delta), nSamples = self.nTracers)\n",
    "        self.norm_radii = self.radii / self.r_delta\n",
    "        self.sphericalCoordinateAngles = np.array(\n",
    "            [self.randomNum(self.nTracers)*np.pi,\n",
    "             self.randomNum(self.nTracers)*2*np.pi]\n",
    "        ) # first row is theta, second row is phi\n",
    "\n",
    "    def g_fcn(self,x):\n",
    "        \"\"\"\n",
    "        Helper function since things like this turn up a lot in NFW profiles.\n",
    "        \"\"\"\n",
    "        return np.log(1+x)-(x/(1+x))\n",
    "    \n",
    "    def radialVelocityDispersion(self,r_norm):\n",
    "        return np.sqrt(self.virial_speed**2*\\\n",
    "                       (self.c*r_norm*(1+self.c*r_norm)/self.g_fcn(self.c))*\\\n",
    "                       integrate.quad(lambda y: self.g_fcn(y)/(y**3*(1+y)**2), r_norm, np.inf)[0])\n",
    "    \n",
    "    def radialVelocityPDF(self,v_radial,dispersion_squared):\n",
    "        return ( (3/(2*np.pi*dispersion_squared))**(3/2) )*4*np.pi*v_radial**2*np.exp( -3*v_radial**2/(2*dispersion_squared) )\n",
    "    \n",
    "    def radialVelocityCDF(self,v_radial,dispersion_squared):\n",
    "        return integrate.quad( lambda v: self.radialVelocityPDF(v,dispersion_squared), 0, v_radial)[0]\n",
    "    \n",
    "    def plotRadialVelocityCDF(self,r_norm,steps=100):\n",
    "        v = np.linspace(0,self.virial_speed,steps)\n",
    "        cdf = []\n",
    "        for i in range(steps):\n",
    "            disp = self.radialVelocityDispersion(r_norm)\n",
    "            cdf.append(self.radialVelocityCDF(v[i], disp**2))\n",
    "        plt.scatter(v,cdf)\n",
    "        \n",
    "    def plotRadialVelocityPDF(self,r_norm,steps=100):\n",
    "        v = np.linspace(0,self.virial_speed,steps)\n",
    "        pdf = []\n",
    "        for i in range(steps):\n",
    "            disp = self.radialVelocityDispersion(r_norm)\n",
    "            pdf.append(self.radialVelocityCDF(v[i], disp**2))\n",
    "        plt.scatter(v,pdf)\n",
    "    \n",
    "    def genTracerVelocities(self):\n",
    "        self.tracerRVDispersion = []\n",
    "        self.radialVelocities = []\n",
    "        for i in range(self.nTracers):\n",
    "            disp = self.radialVelocityDispersion(self.norm_radii[i]) # Compute the radial velocity dispersion at the given radius.\n",
    "            self.tracerRVDispersion.append(disp) # Store this in an array of dispersions for each tracer. Good bookkeeping.\n",
    "            v_max = np.sqrt(np.abs(2*self.nfwPotential(self.norm_radii[i]))) # Kinematic limit for V. Is this right?\n",
    "            self.radialVelocities.append(self.inverseTransformSampling(lambda v: self.radialVelocityCDF(v,disp), bracket = (0, v_max), nSamples = 1))\n",
    "        self.sphericalVelocityAngles = np.array(\n",
    "            [self.randomNum(self.nTracers)*np.pi,\n",
    "             self.randomNum(self.nTracers)*2*np.pi]\n",
    "        ) # first row is theta, second row is phi\n",
    "\n",
    "    def genTracers(self):\n",
    "        self.genTracerCoords()\n",
    "        self.genTracerVelocities()\n",
    "        self.sphericalPhaseSpacePoints = [self.radii,\n",
    "                                          self.sphericalCoordinateAngles,\n",
    "                                          self.radialVelocities,\n",
    "                                          self.sphericalVelocityAngles]"
   ]
  },
  {
   "cell_type": "code",
   "execution_count": null,
   "metadata": {},
   "outputs": [],
   "source": []
  },
  {
   "cell_type": "code",
   "execution_count": 57,
   "metadata": {},
   "outputs": [],
   "source": [
    "# Let's make a halo!\n",
    "\n",
    "nTracers = 1000\n",
    "mwHaloDensity = 7.18 * 10 ** -3 # Solar masses per cubic parsec, Milky way DM halo density (SOFUE 2011)\n",
    "criticalDensity = 1.26 * 10 ** -7 # Solar masses per cubic parsec\n",
    "scaleRadiusA = .01\n",
    "scaleRadiusDelta = 1\n",
    "\n",
    "halo = haloNFW(nTracers,scaleRadiusA,scaleRadiusDelta,mwHaloDensity,criticalDensity)"
   ]
  },
  {
   "cell_type": "code",
   "execution_count": 58,
   "metadata": {},
   "outputs": [],
   "source": [
    "halo.genTracerCoords()"
   ]
  },
  {
   "cell_type": "code",
   "execution_count": 59,
   "metadata": {},
   "outputs": [
    {
     "name": "stdout",
     "output_type": "stream",
     "text": [
      "1\n"
     ]
    },
    {
     "data": {
      "image/png": "[encoded data removed]",
      "text/plain": [
       "<Figure size 432x288 with 1 Axes>"
      ]
     },
     "metadata": {
      "needs_background": "light"
     },
     "output_type": "display_data"
    }
   ],
   "source": [
    "plt.hist(halo.radii,20)\n",
    "print(halo.r_delta)"
   ]
  },
  {
   "cell_type": "code",
   "execution_count": 60,
   "metadata": {},
   "outputs": [],
   "source": [
    "x = halo.radii*np.sin(halo.sphericalCoordinateAngles[0,:])*np.cos(halo.sphericalCoordinateAngles[1,:])\n",
    "y = halo.radii*np.sin(halo.sphericalCoordinateAngles[0,:])*np.sin(halo.sphericalCoordinateAngles[1,:])\n",
    "z = halo.radii*np.cos(halo.sphericalCoordinateAngles[0,:])"
   ]
  },
  {
   "cell_type": "code",
   "execution_count": 61,
   "metadata": {},
   "outputs": [
    {
     "data": {
      "text/plain": [
       "1.2131896729198106e-16"
      ]
     },
     "execution_count": 61,
     "metadata": {},
     "output_type": "execute_result"
    },
    {
     "data": {
      "image/png": "[encoded data removed]",
      "text/plain": [
       "<Figure size 432x288 with 1 Axes>"
      ]
     },
     "metadata": {
      "needs_background": "light"
     },
     "output_type": "display_data"
    }
   ],
   "source": [
    "fig = plt.figure()\n",
    "ax = fig.add_subplot(111, projection='3d')\n",
    "ax.scatter(x,y,z,c=halo.radii)\n",
    "halo.virial_speed"
   ]
  },
  {
   "cell_type": "code",
   "execution_count": 63,
   "metadata": {},
   "outputs": [],
   "source": [
    "test_halo = haloNFW(1000,.01,1,1,.001)\n",
    "test_halo.genTracerCoords()"
   ]
  },
  {
   "cell_type": "code",
   "execution_count": 65,
   "metadata": {},
   "outputs": [
    {
     "data": {
      "image/png": "[encoded data removed]",
      "text/plain": [
       "<Figure size 432x288 with 1 Axes>"
      ]
     },
     "metadata": {
      "needs_background": "light"
     },
     "output_type": "display_data"
    }
   ],
   "source": [
    "test_halo.plotRadialVelocityPDF(1)"
   ]
  },
  {
   "cell_type": "code",
   "execution_count": null,
   "metadata": {},
   "outputs": [],
   "source": []
  },
  {
   "cell_type": "code",
   "execution_count": 23,
   "metadata": {},
   "outputs": [
    {
     "ename": "ValueError",
     "evalue": "f(a) and f(b) must have different signs",
     "output_type": "error",
     "traceback": [
      "\u001b[1;31m---------------------------------------------------------------------------\u001b[0m",
      "\u001b[1;31mValueError\u001b[0m                                Traceback (most recent call last)",
      "\u001b[1;32m<ipython-input-23-92b72914b709>\u001b[0m in \u001b[0;36m<module>\u001b[1;34m\u001b[0m\n\u001b[1;32m----> 1\u001b[1;33m \u001b[0mhalo\u001b[0m\u001b[1;33m.\u001b[0m\u001b[0mgenTracers\u001b[0m\u001b[1;33m(\u001b[0m\u001b[1;33m)\u001b[0m\u001b[1;33m\u001b[0m\u001b[1;33m\u001b[0m\u001b[0m\n\u001b[0m",
      "\u001b[1;32m<ipython-input-17-e80e5883a87b>\u001b[0m in \u001b[0;36mgenTracers\u001b[1;34m(self)\u001b[0m\n\u001b[0;32m    109\u001b[0m     \u001b[1;32mdef\u001b[0m \u001b[0mgenTracers\u001b[0m\u001b[1;33m(\u001b[0m\u001b[0mself\u001b[0m\u001b[1;33m)\u001b[0m\u001b[1;33m:\u001b[0m\u001b[1;33m\u001b[0m\u001b[1;33m\u001b[0m\u001b[0m\n\u001b[0;32m    110\u001b[0m         \u001b[0mself\u001b[0m\u001b[1;33m.\u001b[0m\u001b[0mgenTracerCoords\u001b[0m\u001b[1;33m(\u001b[0m\u001b[1;33m)\u001b[0m\u001b[1;33m\u001b[0m\u001b[1;33m\u001b[0m\u001b[0m\n\u001b[1;32m--> 111\u001b[1;33m         \u001b[0mself\u001b[0m\u001b[1;33m.\u001b[0m\u001b[0mgenTracerVelocities\u001b[0m\u001b[1;33m(\u001b[0m\u001b[1;33m)\u001b[0m\u001b[1;33m\u001b[0m\u001b[1;33m\u001b[0m\u001b[0m\n\u001b[0m\u001b[0;32m    112\u001b[0m         \u001b[0mself\u001b[0m\u001b[1;33m.\u001b[0m\u001b[0msphericalPhaseSpacePoints\u001b[0m \u001b[1;33m=\u001b[0m \u001b[1;33m[\u001b[0m\u001b[0mself\u001b[0m\u001b[1;33m.\u001b[0m\u001b[0mradii\u001b[0m\u001b[1;33m,\u001b[0m\u001b[0mself\u001b[0m\u001b[1;33m.\u001b[0m\u001b[0msphericalCoordinateAngles\u001b[0m\u001b[1;33m,\u001b[0m\u001b[0mself\u001b[0m\u001b[1;33m.\u001b[0m\u001b[0mradialVelocities\u001b[0m\u001b[1;33m,\u001b[0m\u001b[0mself\u001b[0m\u001b[1;33m.\u001b[0m\u001b[0msphericalVelocityAngles\u001b[0m\u001b[1;33m]\u001b[0m\u001b[1;33m\u001b[0m\u001b[1;33m\u001b[0m\u001b[0m\n",
      "\u001b[1;32m<ipython-input-17-e80e5883a87b>\u001b[0m in \u001b[0;36mgenTracerVelocities\u001b[1;34m(self)\u001b[0m\n\u001b[0;32m    104\u001b[0m             \u001b[0mself\u001b[0m\u001b[1;33m.\u001b[0m\u001b[0mtracerRVDispersion\u001b[0m\u001b[1;33m.\u001b[0m\u001b[0mappend\u001b[0m\u001b[1;33m(\u001b[0m\u001b[0mdisp\u001b[0m\u001b[1;33m)\u001b[0m\u001b[1;33m\u001b[0m\u001b[1;33m\u001b[0m\u001b[0m\n\u001b[0;32m    105\u001b[0m             \u001b[0mv_max\u001b[0m \u001b[1;33m=\u001b[0m \u001b[0mnp\u001b[0m\u001b[1;33m.\u001b[0m\u001b[0msqrt\u001b[0m\u001b[1;33m(\u001b[0m\u001b[0mnp\u001b[0m\u001b[1;33m.\u001b[0m\u001b[0mabs\u001b[0m\u001b[1;33m(\u001b[0m\u001b[1;36m2\u001b[0m\u001b[1;33m*\u001b[0m\u001b[0mself\u001b[0m\u001b[1;33m.\u001b[0m\u001b[0mnfwPotential\u001b[0m\u001b[1;33m(\u001b[0m\u001b[0mself\u001b[0m\u001b[1;33m.\u001b[0m\u001b[0mnorm_radii\u001b[0m\u001b[1;33m[\u001b[0m\u001b[0mi\u001b[0m\u001b[1;33m]\u001b[0m\u001b[1;33m)\u001b[0m\u001b[1;33m)\u001b[0m\u001b[1;33m)\u001b[0m\u001b[1;33m\u001b[0m\u001b[1;33m\u001b[0m\u001b[0m\n\u001b[1;32m--> 106\u001b[1;33m             \u001b[0mself\u001b[0m\u001b[1;33m.\u001b[0m\u001b[0mradialVelocities\u001b[0m\u001b[1;33m.\u001b[0m\u001b[0mappend\u001b[0m\u001b[1;33m(\u001b[0m\u001b[0mself\u001b[0m\u001b[1;33m.\u001b[0m\u001b[0minverseTransformSampling\u001b[0m\u001b[1;33m(\u001b[0m\u001b[1;32mlambda\u001b[0m \u001b[0mv\u001b[0m\u001b[1;33m:\u001b[0m \u001b[0mself\u001b[0m\u001b[1;33m.\u001b[0m\u001b[0mradialVelocityCDF\u001b[0m\u001b[1;33m(\u001b[0m\u001b[0mv\u001b[0m\u001b[1;33m,\u001b[0m\u001b[0mdisp\u001b[0m\u001b[1;33m)\u001b[0m\u001b[1;33m,\u001b[0m \u001b[0mbracket\u001b[0m \u001b[1;33m=\u001b[0m \u001b[1;33m(\u001b[0m\u001b[1;36m0\u001b[0m\u001b[1;33m,\u001b[0m \u001b[0mv_max\u001b[0m\u001b[1;33m)\u001b[0m\u001b[1;33m,\u001b[0m \u001b[0mnSamples\u001b[0m \u001b[1;33m=\u001b[0m \u001b[1;36m1\u001b[0m\u001b[1;33m)\u001b[0m\u001b[1;33m)\u001b[0m\u001b[1;33m\u001b[0m\u001b[1;33m\u001b[0m\u001b[0m\n\u001b[0m\u001b[0;32m    107\u001b[0m         \u001b[0mself\u001b[0m\u001b[1;33m.\u001b[0m\u001b[0msphericalVelocityAngles\u001b[0m \u001b[1;33m=\u001b[0m \u001b[0mnp\u001b[0m\u001b[1;33m.\u001b[0m\u001b[0marray\u001b[0m\u001b[1;33m(\u001b[0m\u001b[1;33m[\u001b[0m\u001b[0mself\u001b[0m\u001b[1;33m.\u001b[0m\u001b[0mrandomNum\u001b[0m\u001b[1;33m(\u001b[0m\u001b[0mself\u001b[0m\u001b[1;33m.\u001b[0m\u001b[0mnTracers\u001b[0m\u001b[1;33m)\u001b[0m\u001b[1;33m*\u001b[0m\u001b[0mnp\u001b[0m\u001b[1;33m.\u001b[0m\u001b[0mpi\u001b[0m\u001b[1;33m,\u001b[0m\u001b[0mself\u001b[0m\u001b[1;33m.\u001b[0m\u001b[0mrandomNum\u001b[0m\u001b[1;33m(\u001b[0m\u001b[0mself\u001b[0m\u001b[1;33m.\u001b[0m\u001b[0mnTracers\u001b[0m\u001b[1;33m)\u001b[0m\u001b[1;33m*\u001b[0m\u001b[1;36m2\u001b[0m\u001b[1;33m*\u001b[0m\u001b[0mnp\u001b[0m\u001b[1;33m.\u001b[0m\u001b[0mpi\u001b[0m\u001b[1;33m]\u001b[0m\u001b[1;33m)\u001b[0m \u001b[1;31m# first row is theta, second row is phi\u001b[0m\u001b[1;33m\u001b[0m\u001b[1;33m\u001b[0m\u001b[0m\n\u001b[0;32m    108\u001b[0m \u001b[1;33m\u001b[0m\u001b[0m\n",
      "\u001b[1;32m<ipython-input-17-e80e5883a87b>\u001b[0m in \u001b[0;36minverseTransformSampling\u001b[1;34m(self, CDF, bracket, nSamples)\u001b[0m\n\u001b[0;32m     59\u001b[0m         \u001b[0mCDFsubRandomNumber\u001b[0m \u001b[1;33m=\u001b[0m \u001b[1;32mlambda\u001b[0m \u001b[0mx\u001b[0m\u001b[1;33m:\u001b[0m \u001b[0mCDF\u001b[0m\u001b[1;33m(\u001b[0m\u001b[0mx\u001b[0m\u001b[1;33m)\u001b[0m \u001b[1;33m-\u001b[0m \u001b[0mself\u001b[0m\u001b[1;33m.\u001b[0m\u001b[0mrandomNum\u001b[0m\u001b[1;33m(\u001b[0m\u001b[1;36m1\u001b[0m\u001b[1;33m)\u001b[0m \u001b[1;31m# Need a modified CDF where we subtract some random offset each time it's called.\u001b[0m\u001b[1;33m\u001b[0m\u001b[1;33m\u001b[0m\u001b[0m\n\u001b[0;32m     60\u001b[0m         \u001b[1;32mfor\u001b[0m \u001b[0mi\u001b[0m \u001b[1;32min\u001b[0m \u001b[0mrange\u001b[0m\u001b[1;33m(\u001b[0m\u001b[0mnSamples\u001b[0m\u001b[1;33m)\u001b[0m\u001b[1;33m:\u001b[0m\u001b[1;33m\u001b[0m\u001b[1;33m\u001b[0m\u001b[0m\n\u001b[1;32m---> 61\u001b[1;33m             \u001b[0mresult\u001b[0m\u001b[1;33m.\u001b[0m\u001b[0mappend\u001b[0m\u001b[1;33m(\u001b[0m \u001b[0moptimize\u001b[0m\u001b[1;33m.\u001b[0m\u001b[0mroot_scalar\u001b[0m\u001b[1;33m(\u001b[0m \u001b[0mCDFsubRandomNumber\u001b[0m \u001b[1;33m,\u001b[0m \u001b[0mbracket\u001b[0m \u001b[1;33m=\u001b[0m \u001b[0mbracket\u001b[0m \u001b[1;33m)\u001b[0m\u001b[1;33m.\u001b[0m\u001b[0mroot\u001b[0m \u001b[1;33m)\u001b[0m\u001b[1;33m\u001b[0m\u001b[1;33m\u001b[0m\u001b[0m\n\u001b[0m\u001b[0;32m     62\u001b[0m \u001b[1;33m\u001b[0m\u001b[0m\n\u001b[0;32m     63\u001b[0m         \u001b[1;32mreturn\u001b[0m \u001b[0mnp\u001b[0m\u001b[1;33m.\u001b[0m\u001b[0marray\u001b[0m\u001b[1;33m(\u001b[0m\u001b[0mresult\u001b[0m\u001b[1;33m)\u001b[0m\u001b[1;33m\u001b[0m\u001b[1;33m\u001b[0m\u001b[0m\n",
      "\u001b[1;32m~\\anaconda3\\lib\\site-packages\\scipy\\optimize\\_root_scalar.py\u001b[0m in \u001b[0;36mroot_scalar\u001b[1;34m(f, args, method, bracket, fprime, fprime2, x0, x1, xtol, rtol, maxiter, options)\u001b[0m\n\u001b[0;32m    244\u001b[0m \u001b[1;33m\u001b[0m\u001b[0m\n\u001b[0;32m    245\u001b[0m         \u001b[0ma\u001b[0m\u001b[1;33m,\u001b[0m \u001b[0mb\u001b[0m \u001b[1;33m=\u001b[0m \u001b[0mbracket\u001b[0m\u001b[1;33m[\u001b[0m\u001b[1;33m:\u001b[0m\u001b[1;36m2\u001b[0m\u001b[1;33m]\u001b[0m\u001b[1;33m\u001b[0m\u001b[1;33m\u001b[0m\u001b[0m\n\u001b[1;32m--> 246\u001b[1;33m         \u001b[0mr\u001b[0m\u001b[1;33m,\u001b[0m \u001b[0msol\u001b[0m \u001b[1;33m=\u001b[0m \u001b[0mmethodc\u001b[0m\u001b[1;33m(\u001b[0m\u001b[0mf\u001b[0m\u001b[1;33m,\u001b[0m \u001b[0ma\u001b[0m\u001b[1;33m,\u001b[0m \u001b[0mb\u001b[0m\u001b[1;33m,\u001b[0m \u001b[0margs\u001b[0m\u001b[1;33m=\u001b[0m\u001b[0margs\u001b[0m\u001b[1;33m,\u001b[0m \u001b[1;33m**\u001b[0m\u001b[0mkwargs\u001b[0m\u001b[1;33m)\u001b[0m\u001b[1;33m\u001b[0m\u001b[1;33m\u001b[0m\u001b[0m\n\u001b[0m\u001b[0;32m    247\u001b[0m     \u001b[1;32melif\u001b[0m \u001b[0mmeth\u001b[0m \u001b[1;32min\u001b[0m \u001b[1;33m[\u001b[0m\u001b[1;34m'secant'\u001b[0m\u001b[1;33m]\u001b[0m\u001b[1;33m:\u001b[0m\u001b[1;33m\u001b[0m\u001b[1;33m\u001b[0m\u001b[0m\n\u001b[0;32m    248\u001b[0m         \u001b[1;32mif\u001b[0m \u001b[0mx0\u001b[0m \u001b[1;32mis\u001b[0m \u001b[1;32mNone\u001b[0m\u001b[1;33m:\u001b[0m\u001b[1;33m\u001b[0m\u001b[1;33m\u001b[0m\u001b[0m\n",
      "\u001b[1;32m~\\anaconda3\\lib\\site-packages\\scipy\\optimize\\zeros.py\u001b[0m in \u001b[0;36mbrentq\u001b[1;34m(f, a, b, args, xtol, rtol, maxiter, full_output, disp)\u001b[0m\n\u001b[0;32m    774\u001b[0m     \u001b[1;32mif\u001b[0m \u001b[0mrtol\u001b[0m \u001b[1;33m<\u001b[0m \u001b[0m_rtol\u001b[0m\u001b[1;33m:\u001b[0m\u001b[1;33m\u001b[0m\u001b[1;33m\u001b[0m\u001b[0m\n\u001b[0;32m    775\u001b[0m         \u001b[1;32mraise\u001b[0m \u001b[0mValueError\u001b[0m\u001b[1;33m(\u001b[0m\u001b[1;34m\"rtol too small (%g < %g)\"\u001b[0m \u001b[1;33m%\u001b[0m \u001b[1;33m(\u001b[0m\u001b[0mrtol\u001b[0m\u001b[1;33m,\u001b[0m \u001b[0m_rtol\u001b[0m\u001b[1;33m)\u001b[0m\u001b[1;33m)\u001b[0m\u001b[1;33m\u001b[0m\u001b[1;33m\u001b[0m\u001b[0m\n\u001b[1;32m--> 776\u001b[1;33m     \u001b[0mr\u001b[0m \u001b[1;33m=\u001b[0m \u001b[0m_zeros\u001b[0m\u001b[1;33m.\u001b[0m\u001b[0m_brentq\u001b[0m\u001b[1;33m(\u001b[0m\u001b[0mf\u001b[0m\u001b[1;33m,\u001b[0m \u001b[0ma\u001b[0m\u001b[1;33m,\u001b[0m \u001b[0mb\u001b[0m\u001b[1;33m,\u001b[0m \u001b[0mxtol\u001b[0m\u001b[1;33m,\u001b[0m \u001b[0mrtol\u001b[0m\u001b[1;33m,\u001b[0m \u001b[0mmaxiter\u001b[0m\u001b[1;33m,\u001b[0m \u001b[0margs\u001b[0m\u001b[1;33m,\u001b[0m \u001b[0mfull_output\u001b[0m\u001b[1;33m,\u001b[0m \u001b[0mdisp\u001b[0m\u001b[1;33m)\u001b[0m\u001b[1;33m\u001b[0m\u001b[1;33m\u001b[0m\u001b[0m\n\u001b[0m\u001b[0;32m    777\u001b[0m     \u001b[1;32mreturn\u001b[0m \u001b[0mresults_c\u001b[0m\u001b[1;33m(\u001b[0m\u001b[0mfull_output\u001b[0m\u001b[1;33m,\u001b[0m \u001b[0mr\u001b[0m\u001b[1;33m)\u001b[0m\u001b[1;33m\u001b[0m\u001b[1;33m\u001b[0m\u001b[0m\n\u001b[0;32m    778\u001b[0m \u001b[1;33m\u001b[0m\u001b[0m\n",
      "\u001b[1;31mValueError\u001b[0m: f(a) and f(b) must have different signs"
     ]
    }
   ],
   "source": [
    "halo.genTracers()"
   ]
  },
  {
   "cell_type": "code",
   "execution_count": 8,
   "metadata": {},
   "outputs": [
    {
     "name": "stdout",
     "output_type": "stream",
     "text": [
      "[0.         0.01010101 0.02020202 0.03030303 0.04040404 0.05050505\n",
      " 0.06060606 0.07070707 0.08080808 0.09090909 0.1010101  0.11111111\n",
      " 0.12121212 0.13131313 0.14141414 0.15151515 0.16161616 0.17171717\n",
      " 0.18181818 0.19191919 0.2020202  0.21212121 0.22222222 0.23232323\n",
      " 0.24242424 0.25252525 0.26262626 0.27272727 0.28282828 0.29292929\n",
      " 0.3030303  0.31313131 0.32323232 0.33333333 0.34343434 0.35353535\n",
      " 0.36363636 0.37373737 0.38383838 0.39393939 0.4040404  0.41414141\n",
      " 0.42424242 0.43434343 0.44444444 0.45454545 0.46464646 0.47474747\n",
      " 0.48484848 0.49494949 0.50505051 0.51515152 0.52525253 0.53535354\n",
      " 0.54545455 0.55555556 0.56565657 0.57575758 0.58585859 0.5959596\n",
      " 0.60606061 0.61616162 0.62626263 0.63636364 0.64646465 0.65656566\n",
      " 0.66666667 0.67676768 0.68686869 0.6969697  0.70707071 0.71717172\n",
      " 0.72727273 0.73737374 0.74747475 0.75757576 0.76767677 0.77777778\n",
      " 0.78787879 0.7979798  0.80808081 0.81818182 0.82828283 0.83838384\n",
      " 0.84848485 0.85858586 0.86868687 0.87878788 0.88888889 0.8989899\n",
      " 0.90909091 0.91919192 0.92929293 0.93939394 0.94949495 0.95959596\n",
      " 0.96969697 0.97979798 0.98989899 1.        ]\n"
     ]
    },
    {
     "data": {
      "text/plain": [
       "[<matplotlib.lines.Line2D at 0x2ca8a3fddf0>]"
      ]
     },
     "execution_count": 8,
     "metadata": {},
     "output_type": "execute_result"
    },
    {
     "data": {
      "image/png": "[encoded data removed]",
      "text/plain": [
       "<Figure size 432x288 with 1 Axes>"
      ]
     },
     "metadata": {
      "needs_background": "light"
     },
     "output_type": "display_data"
    }
   ],
   "source": [
    "n=100\n",
    "xlist = np.linspace(0,halo.r_delta,n)\n",
    "ylist = []\n",
    "print(xlist)\n",
    "for i in range(n):\n",
    "    ylist.append(halo.radialCDF(xlist[i]))\n",
    "plt.plot(xlist,ylist)"
   ]
  },
  {
   "cell_type": "code",
   "execution_count": 9,
   "metadata": {},
   "outputs": [],
   "source": [
    "np.zeros((3,2))\n",
    "rng = default_rng()\n",
    "default_rng().random()\n",
    "A = np.array([2,3,4,5])\n",
    "B = np.array([11,22,33,44])\n",
    "C = np.array([A,B])"
   ]
  },
  {
   "cell_type": "code",
   "execution_count": 156,
   "metadata": {},
   "outputs": [
    {
     "data": {
      "text/plain": [
       "0.7577792502772075"
      ]
     },
     "execution_count": 156,
     "metadata": {},
     "output_type": "execute_result"
    }
   ],
   "source": [
    "def test(x):\n",
    "    return 2*x-1\n",
    "\n",
    "def test_mod(x):\n",
    "    return test(x) - default_rng().random(1)\n",
    "optimize.root_scalar( test_mod, bracket = (-5,5) ).root"
   ]
  },
  {
   "cell_type": "code",
   "execution_count": null,
   "metadata": {},
   "outputs": [],
   "source": []
  },
  {
   "cell_type": "code",
   "execution_count": 172,
   "metadata": {},
   "outputs": [
    {
     "data": {
      "text/plain": [
       "[<matplotlib.lines.Line2D at 0x2366d54fb20>]"
      ]
     },
     "execution_count": 172,
     "metadata": {},
     "output_type": "execute_result"
    },
    {
     "data": {
      "image/png": "[encoded data removed]",
      "text/plain": [
       "<Figure size 432x288 with 1 Axes>"
      ]
     },
     "metadata": {
      "needs_background": "light"
     },
     "output_type": "display_data"
    }
   ],
   "source": [
    "halo.radialCDF(.999*halo.r_delta)\n",
    "\n",
    "CDF = []\n",
    "PDF_est = []\n",
    "for i in range(100):\n",
    "    rad = (i/100)*halo.r_delta\n",
    "    CDF.append(halo.radialCDF(rad))\n",
    "    if i>1:\n",
    "        PDF_est.append(CDF[i]-CDF[i-1])\n",
    "    \n",
    "plt.plot(CDF)\n",
    "plt.plot(PDF_est)"
   ]
  },
  {
   "cell_type": "code",
   "execution_count": null,
   "metadata": {},
   "outputs": [],
   "source": []
  },
  {
   "cell_type": "code",
   "execution_count": null,
   "metadata": {},
   "outputs": [],
   "source": []
  },
  {
   "cell_type": "code",
   "execution_count": null,
   "metadata": {},
   "outputs": [],
   "source": []
  }
 ],
 "metadata": {
  "kernelspec": {
   "display_name": "Python 3",
   "language": "python",
   "name": "python3"
  },
  "language_info": {
   "codemirror_mode": {
    "name": "ipython",
    "version": 3
   },
   "file_extension": ".py",
   "mimetype": "text/x-python",
   "name": "python",
   "nbconvert_exporter": "python",
   "pygments_lexer": "ipython3",
   "version": "3.8.5"
  }
 },
 "nbformat": 4,
 "nbformat_minor": 4
}
