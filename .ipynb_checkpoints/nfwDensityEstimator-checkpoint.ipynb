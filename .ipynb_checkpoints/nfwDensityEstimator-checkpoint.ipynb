{
 "cells": [
  {
   "cell_type": "code",
   "execution_count": 1,
   "metadata": {},
   "outputs": [],
   "source": [
    "import numpy as np\n",
    "import scipy\n",
    "from scipy import special\n",
    "from scipy import integrate\n",
    "from scipy import interpolate\n",
    "from scipy import stats\n",
    "from scipy import optimize\n",
    "from numpy.random import default_rng\n",
    "\n",
    "import time, os\n",
    "\n",
    "from matplotlib import pyplot as plt\n",
    "from mpl_toolkits.mplot3d import Axes3D\n",
    "\n",
    "import matplotlib as mpl\n",
    "\n",
    "plt.rcParams['figure.autolayout'] = False\n",
    "plt.rcParams['figure.figsize'] = 10, 6\n",
    "plt.rcParams['axes.labelsize'] = 18\n",
    "plt.rcParams['axes.titlesize'] = 15\n",
    "plt.rcParams['font.size'] = 16\n",
    "plt.rcParams['lines.linewidth'] = 2.0\n",
    "plt.rcParams['lines.markersize'] = 8\n",
    "plt.rcParams['legend.fontsize'] = 14\n",
    "mpl.rc('axes',edgecolor='k')\n",
    "plt.rcParams['xtick.color'] = 'k'\n",
    "plt.rcParams['ytick.color'] = 'k'\n",
    "\n",
    "from IPython import display\n",
    "import sys\n",
    "\n",
    "sys.path.append(\"C:\\\\Users\\\\ericr\\\\Desktop\\\\Rutgers\\\\research\\\\density_estimation\\\\Liouville\\\\naf\\\\torchkit\")\n",
    "sys.path.append(\"C:\\\\Users\\\\ericr\\\\Desktop\\\\Rutgers\\\\research\\\\density_estimation\\\\Liouville\\\\naf\\\\torchkit\\\\torchkit\")\n",
    "sys.path.append(\"C:\\\\Users\\\\ericr\\\\Desktop\\\\Rutgers\\\\research\\\\density_estimation\\\\Liouville\\\\naf\")\n",
    "\n",
    "import naf\n",
    "import scipy as sp\n",
    "import math\n",
    "\n",
    "import torch\n",
    "import torch.utils.data\n",
    "from torch import nn, optim\n",
    "from torch.nn import functional as F\n",
    "from torchvision import datasets, transforms\n",
    "from torchvision.utils import save_image\n",
    "import matplotlib.pyplot as plt\n",
    "from torch.utils.data import Dataset, DataLoader\n",
    "from torch.nn import init\n",
    "\n",
    "from sklearn.preprocessing import RobustScaler,MinMaxScaler"
   ]
  },
  {
   "cell_type": "markdown",
   "metadata": {},
   "source": [
    "<h1> Density Estimation via NAF </h1>"
   ]
  },
  {
   "cell_type": "code",
   "execution_count": 2,
   "metadata": {},
   "outputs": [
    {
     "name": "stdout",
     "output_type": "stream",
     "text": [
      "nTracers is: 10000.0. rScale is: 8100.0 pc. mwHaloDensity is: 0.00718 solar masses per cubic parsec. delta is: 200.0. criticalDensity is: 1.26e-07\n"
     ]
    }
   ],
   "source": [
    "# Loading in a generated halo\n",
    "nfwHalo = np.load('generatedHalos//nfwGeneratedTracers_Apr_20_2021_2046.npz')\n",
    "haloInfo = nfwHalo['arr_1']\n",
    "genPhaseSpace = np.transpose(nfwHalo['arr_3'])\n",
    "\n",
    "print(\"nTracers is: \" + str(haloInfo[0]) + \". rScale is: \" + str(haloInfo[1]) + \" pc. mwHaloDensity is: \" + str(haloInfo[2]) + \" solar masses per cubic parsec. delta is: \" + str(haloInfo[3]) + \". criticalDensity is: \" + str(haloInfo[4]))"
   ]
  },
  {
   "cell_type": "code",
   "execution_count": 3,
   "metadata": {},
   "outputs": [
    {
     "data": {
      "text/plain": [
       "(10000, 6)"
      ]
     },
     "execution_count": 3,
     "metadata": {},
     "output_type": "execute_result"
    }
   ],
   "source": [
    "np.shape(genPhaseSpace)"
   ]
  },
  {
   "cell_type": "code",
   "execution_count": 4,
   "metadata": {},
   "outputs": [],
   "source": [
    "class EntropyDataset(Dataset):\n",
    "    def __init__(self,data):\n",
    "        self.data=data\n",
    "        \n",
    "    def __len__(self):\n",
    "        self.len=len(self.data)\n",
    "        return self.len\n",
    "\n",
    "    def __getitem__(self, idx):\n",
    "        datum = self.data[idx]\n",
    "        return datum"
   ]
  },
  {
   "cell_type": "code",
   "execution_count": 7,
   "metadata": {},
   "outputs": [],
   "source": [
    "train_set = EntropyDataset(genPhaseSpace)\n",
    "\n",
    "my_batch_size=128\n",
    "\n",
    "train_loader = DataLoader(train_set, batch_size=my_batch_size,\n",
    "                        shuffle=True,pin_memory=True)\n",
    "# BECAUSE THIS IS UNSUPERVISED DENSITY ESTIMATION WE USE THE SAME TEST=TRAIN SET\n",
    "test_loader = DataLoader(train_set, batch_size=1000,\n",
    "                        shuffle=False,pin_memory=True)\n",
    "\n",
    "denaf = naf.DensityEstimator(flowtype=1,dim=6,lr=0.0001)\n",
    "epochs = 60"
   ]
  },
  {
   "cell_type": "code",
   "execution_count": 8,
   "metadata": {},
   "outputs": [
    {
     "name": "stdout",
     "output_type": "stream",
     "text": [
      "Iteration: [   1/  60] loss: 20646.90560000\n",
      "Iteration: [   2/  60] loss: 7618.42960000\n",
      "Iteration: [   3/  60] loss: 4755.61000000\n",
      "Iteration: [   4/  60] loss: 3087.56620000\n",
      "Iteration: [   5/  60] loss: 2038.21200000\n",
      "Iteration: [   6/  60] loss: 1399.55420000\n",
      "Iteration: [   7/  60] loss: 978.67430000\n",
      "Iteration: [   8/  60] loss: 707.74945000\n",
      "Iteration: [   9/  60] loss: 504.82990000\n",
      "Iteration: [  10/  60] loss: 403.75050000\n",
      "Iteration: [  11/  60] loss: 327.14445000\n",
      "Iteration: [  12/  60] loss: 282.50542500\n",
      "Iteration: [  13/  60] loss: 250.80952500\n",
      "Iteration: [  14/  60] loss: 210.61187500\n",
      "Iteration: [  15/  60] loss: 183.06832500\n",
      "Iteration: [  16/  60] loss: 163.91773750\n",
      "Iteration: [  17/  60] loss: 152.21632500\n",
      "Iteration: [  18/  60] loss: 136.94725000\n",
      "Iteration: [  19/  60] loss: 124.70473750\n",
      "Iteration: [  20/  60] loss: 115.85066250\n",
      "Iteration: [  21/  60] loss: 105.91335000\n",
      "Iteration: [  22/  60] loss: 97.84092500\n",
      "Iteration: [  23/  60] loss: 91.71231875\n",
      "Iteration: [  24/  60] loss: 86.49672500\n",
      "Iteration: [  25/  60] loss: 82.10427500\n",
      "Iteration: [  26/  60] loss: 78.31423750\n",
      "Iteration: [  27/  60] loss: 75.10853750\n",
      "Iteration: [  28/  60] loss: 71.43744375\n",
      "Iteration: [  29/  60] loss: 68.44166875\n",
      "Iteration: [  30/  60] loss: 65.68294375\n",
      "Iteration: [  31/  60] loss: 63.18605625\n",
      "Iteration: [  32/  60] loss: 61.35003750\n",
      "Iteration: [  33/  60] loss: 59.42393750\n",
      "Iteration: [  34/  60] loss: 57.43631250\n",
      "Iteration: [  35/  60] loss: 56.21563125\n",
      "Iteration: [  36/  60] loss: 54.61674375\n",
      "Iteration: [  37/  60] loss: 53.27918125\n",
      "Iteration: [  38/  60] loss: 52.19136250\n",
      "Iteration: [  39/  60] loss: 51.38663437\n",
      "Iteration: [  40/  60] loss: 50.50852812\n",
      "Iteration: [  41/  60] loss: 50.04493437\n",
      "Iteration: [  42/  60] loss: 49.61879375\n",
      "Iteration: [  43/  60] loss: 49.34052500\n",
      "Iteration: [  44/  60] loss: 49.09858438\n",
      "Iteration: [  45/  60] loss: 49.30146250\n",
      "Iteration: [  46/  60] loss: 49.07879688\n",
      "Iteration: [  47/  60] loss: 48.84378125\n",
      "Iteration: [  48/  60] loss: 48.79848438\n",
      "Iteration: [  49/  60] loss: 48.72775937\n",
      "Iteration: [  50/  60] loss: 48.67455313\n",
      "Iteration: [  51/  60] loss: 48.66293437\n",
      "Iteration: [  52/  60] loss: 48.63644062\n",
      "Iteration: [  53/  60] loss: 48.58928125\n",
      "Iteration: [  54/  60] loss: 48.63300938\n",
      "Iteration: [  55/  60] loss: 48.60024688\n",
      "Iteration: [  56/  60] loss: 48.63587812\n",
      "Iteration: [  57/  60] loss: 48.63244687\n",
      "Iteration: [  58/  60] loss: 48.64240000\n",
      "Iteration: [  59/  60] loss: 48.57152813\n",
      "Iteration: [  60/  60] loss: 48.61843125\n"
     ]
    }
   ],
   "source": [
    "denaf.fit(train_loader, save_directory = 'results/nfw_example/',total=epochs)"
   ]
  },
  {
   "cell_type": "code",
   "execution_count": 9,
   "metadata": {},
   "outputs": [
    {
     "data": {
      "image/png": "[encoded data removed]",
      "text/plain": [
       "<Figure size 1200x600 with 2 Axes>"
      ]
     },
     "metadata": {
      "needs_background": "light"
     },
     "output_type": "display_data"
    }
   ],
   "source": [
    "# what are any of these plots? 0_o\n",
    "\n",
    "fig = plt.figure(figsize=(10, 5), dpi= 120)\n",
    "\n",
    "ax = fig.add_subplot(121)\n",
    "\n",
    "_,_,_ = ax.hist(np.sqrt(np.sum(genPhaseSpace[:,0:3]**2,axis=1)),bins=100)\n",
    "#ax.set_yscale('log')\n",
    "\n",
    "\n",
    "ax = fig.add_subplot(122)\n",
    "\n",
    "_,_,_ = ax.hist(np.sqrt(np.sum(genPhaseSpace[:,3:6]**2,axis=1)),bins=100)\n",
    "#ax.set_yscale('log')"
   ]
  },
  {
   "cell_type": "code",
   "execution_count": 10,
   "metadata": {},
   "outputs": [],
   "source": [
    "# What's happening in the next few cells?\n",
    "\n",
    "logprob = np.zeros(len(genPhaseSpace)) # initializing the log probability array\n",
    "gradient = np.zeros_like(genPhaseSpace) # initializing the gradient array\n",
    "#acceleration = np.zeros((genPhaseSpace.shape[0],genPhaseSpace.shape[-1],genPhaseSpace.shape[-1])) # initializing the acceleration array\n",
    "\n",
    "min_epoch = 40\n",
    "\n",
    "for i in range(min_epoch,epochs):\n",
    "    denaf.mdl.load_state_dict(torch.load(\"results/nfw_example/nafmodel_\"+str(i)+\".dict\"))\n",
    "    logprob_temp = np.empty(0)\n",
    "    gradient_temp = np.empty(0)\n",
    "    #acceleration_temp = np.empty(0)\n",
    "    for batch_idx, data in enumerate(test_loader):\n",
    "        logprob_temp = np.concatenate((logprob_temp,denaf.density(data.cuda().float()).cpu().detach().numpy()))\n",
    "        grad,acc = denaf.return_grad(data.cuda().float())\n",
    "        gradient_temp = np.concatenate((gradient_temp,grad.cpu().detach().numpy().flatten()))\n",
    "        #acceleration_temp = np.concatenate((acceleration_temp,acc.cpu().detach().numpy().flatten()))\n",
    "    gradient_temp = gradient_temp.reshape(-1,genPhaseSpace.shape[-1])\n",
    "    #acceleration_temp = acceleration_temp.reshape(-1,genPhaseSpace.shape[-1],genPhaseSpace.shape[-1])\n",
    "            \n",
    "    logprob += logprob_temp\n",
    "    gradient += gradient_temp\n",
    "    #acceleration += acceleration_temp\n",
    "    \n",
    "logprob = logprob/len(range(min_epoch,epochs))\n",
    "gradient = gradient/len(range(min_epoch,epochs))\n",
    "#acceleration = acceleration/len(range(min_epoch,epochs))"
   ]
  },
  {
   "cell_type": "code",
   "execution_count": 20,
   "metadata": {},
   "outputs": [
    {
     "name": "stdout",
     "output_type": "stream",
     "text": [
      "0\n",
      "torch.Size([1000, 6])\n",
      "1\n",
      "torch.Size([1000, 6])\n",
      "2\n",
      "torch.Size([1000, 6])\n",
      "3\n",
      "torch.Size([1000, 6])\n",
      "4\n",
      "torch.Size([1000, 6])\n",
      "5\n",
      "torch.Size([1000, 6])\n",
      "6\n",
      "torch.Size([1000, 6])\n",
      "7\n",
      "torch.Size([1000, 6])\n",
      "8\n",
      "torch.Size([1000, 6])\n",
      "9\n",
      "torch.Size([1000, 6])\n"
     ]
    }
   ],
   "source": [
    "for batch_idx, data in enumerate(test_loader):\n",
    "        print(batch_idx)\n",
    "        print(np.shape(data))"
   ]
  },
  {
   "cell_type": "code",
   "execution_count": 15,
   "metadata": {},
   "outputs": [
    {
     "data": {
      "text/plain": [
       "[<matplotlib.lines.Line2D at 0x1631f6b8850>]"
      ]
     },
     "execution_count": 15,
     "metadata": {},
     "output_type": "execute_result"
    },
    {
     "data": {
      "image/png": "[encoded data removed]",
      "text/plain": [
       "<Figure size 720x432 with 1 Axes>"
      ]
     },
     "metadata": {
      "needs_background": "light"
     },
     "output_type": "display_data"
    }
   ],
   "source": [
    "plt.plot(np.exp(logprob))"
   ]
  },
  {
   "cell_type": "code",
   "execution_count": 21,
   "metadata": {},
   "outputs": [],
   "source": [
    "testpoints = np.vstack([np.linspace(-30,30,20),\n",
    "                       np.linspace(-30,30,20),\n",
    "                       np.linspace(-30,30,20),\n",
    "                       np.linspace(-20,20,20),\n",
    "                       np.linspace(-20,20,20),\n",
    "                       np.linspace(-20,20,20)]).T"
   ]
  },
  {
   "cell_type": "code",
   "execution_count": 26,
   "metadata": {},
   "outputs": [],
   "source": [
    "eval_set = EntropyDataset(testpoints)\n",
    "\n",
    "eval_loader = DataLoader(eval_set, batch_size=20,\n",
    "                        shuffle=False,pin_memory=True)"
   ]
  },
  {
   "cell_type": "code",
   "execution_count": 27,
   "metadata": {},
   "outputs": [
    {
     "name": "stdout",
     "output_type": "stream",
     "text": [
      "[-38.395157 -38.175056 -37.981873 -37.823616 -37.71027  -37.636253\n",
      " -37.56656  -37.50042  -37.274693 -35.86134  -35.711285 -37.07159\n",
      " -37.42633  -37.63813  -37.779198 -37.900444 -38.02389  -38.15858\n",
      " -38.311996 -38.49026 ]\n"
     ]
    }
   ],
   "source": [
    "denaf.mdl.load_state_dict(torch.load(\"results/nfw_example/nafmodel_\"+str(epochs-1)+\".dict\"))\n",
    "for batch_idx, data in enumerate(eval_loader):\n",
    "    print(denaf.density(data.cuda().float()).cpu().detach().numpy())"
   ]
  },
  {
   "cell_type": "code",
   "execution_count": 13,
   "metadata": {},
   "outputs": [
    {
     "data": {
      "text/plain": [
       "(20, 6)"
      ]
     },
     "execution_count": 13,
     "metadata": {},
     "output_type": "execute_result"
    }
   ],
   "source": [
    "np.shape(testpoints)"
   ]
  },
  {
   "cell_type": "code",
   "execution_count": null,
   "metadata": {},
   "outputs": [],
   "source": []
  }
 ],
 "metadata": {
  "kernelspec": {
   "display_name": "Python 3",
   "language": "python",
   "name": "python3"
  },
  "language_info": {
   "codemirror_mode": {
    "name": "ipython",
    "version": 3
   },
   "file_extension": ".py",
   "mimetype": "text/x-python",
   "name": "python",
   "nbconvert_exporter": "python",
   "pygments_lexer": "ipython3",
   "version": "3.8.5"
  }
 },
 "nbformat": 4,
 "nbformat_minor": 4
}
