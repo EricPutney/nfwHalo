{
 "cells": [
  {
   "cell_type": "code",
   "execution_count": 2,
   "metadata": {},
   "outputs": [],
   "source": [
    "# I need to clean these imports up\n",
    "\n",
    "import numpy as np\n",
    "import scipy\n",
    "from scipy import special\n",
    "from scipy import integrate\n",
    "from scipy import interpolate\n",
    "from scipy import stats\n",
    "from scipy import optimize\n",
    "from numpy.random import default_rng\n",
    "\n",
    "import time, os\n",
    "\n",
    "import matplotlib\n",
    "from matplotlib import pyplot as plt\n",
    "from mpl_toolkits.mplot3d import Axes3D\n",
    "\n",
    "# Standardizing some of the font sizes for plots\n",
    "\n",
    "SMALL_SIZE = 10\n",
    "MEDIUM_SIZE = 12\n",
    "BIGGER_SIZE = 16\n",
    "\n",
    "plt.rc('font', size=MEDIUM_SIZE)          # controls default text sizes\n",
    "plt.rc('axes', titlesize=BIGGER_SIZE)     # fontsize of the axes title\n",
    "plt.rc('axes', labelsize=BIGGER_SIZE)    # fontsize of the x and y labels\n",
    "plt.rc('xtick', labelsize=MEDIUM_SIZE)    # fontsize of the tick labels\n",
    "plt.rc('ytick', labelsize=MEDIUM_SIZE)    # fontsize of the tick labels\n",
    "plt.rc('legend', fontsize=BIGGER_SIZE)    # legend fontsize\n",
    "plt.rc('figure', titlesize=BIGGER_SIZE)  # fontsize of the figure title\n",
    "\n",
    "plt.rcParams['font.weight'] = 'normal'\n",
    "plt.rcParams['font.family'] = 'serif'\n",
    "\n",
    "# Some of Matt's matplotlib style settings\n",
    "\n",
    "import matplotlib as mpl\n",
    "\n",
    "plt.rcParams['figure.autolayout'] = False\n",
    "plt.rcParams['figure.figsize'] = 10, 6\n",
    "plt.rcParams['axes.labelsize'] = 18\n",
    "plt.rcParams['axes.titlesize'] = 15\n",
    "plt.rcParams['font.size'] = 16\n",
    "plt.rcParams['lines.linewidth'] = 2.0\n",
    "plt.rcParams['lines.markersize'] = 8\n",
    "plt.rcParams['legend.fontsize'] = 14\n",
    "mpl.rc('axes',edgecolor='k')\n",
    "plt.rcParams['xtick.color'] = 'k'\n",
    "plt.rcParams['ytick.color'] = 'k'\n",
    "\n",
    "from IPython import display\n",
    "import sys\n",
    "\n",
    "sys.path.append(\"C:\\\\Users\\\\ericr\\\\Desktop\\\\Rutgers\\\\research\\\\density_estimation\\\\Liouville\\\\naf\\\\torchkit\")\n",
    "sys.path.append(\"C:\\\\Users\\\\ericr\\\\Desktop\\\\Rutgers\\\\research\\\\density_estimation\\\\Liouville\\\\naf\\\\torchkit\\\\torchkit\")\n",
    "sys.path.append(\"C:\\\\Users\\\\ericr\\\\Desktop\\\\Rutgers\\\\research\\\\density_estimation\\\\Liouville\\\\naf\")\n",
    "\n",
    "import naf\n",
    "import scipy as sp\n",
    "import math\n",
    "\n",
    "import torch\n",
    "import torch.utils.data\n",
    "from torch import nn, optim\n",
    "from torch.nn import functional as F\n",
    "from torchvision import datasets, transforms\n",
    "from torchvision.utils import save_image\n",
    "import numpy as np\n",
    "import matplotlib.pyplot as plt\n",
    "from torch.utils.data import Dataset, DataLoader\n",
    "from torch.nn import init\n",
    "\n",
    "from sklearn.preprocessing import RobustScaler,MinMaxScaler"
   ]
  },
  {
   "cell_type": "markdown",
   "metadata": {},
   "source": [
    "<h1> Density Estimation via NAF </h1>"
   ]
  },
  {
   "cell_type": "code",
   "execution_count": 70,
   "metadata": {},
   "outputs": [],
   "source": [
    "# Loading in a generated halo\n",
    "\n",
    "loadHalo = True\n",
    "\n",
    "if loadHalo == True:\n",
    "    nfwHalo = np.load('generatedHalos//nfwGeneratedTracers_Apr_14_2021_1815.npz')"
   ]
  },
  {
   "cell_type": "code",
   "execution_count": 71,
   "metadata": {},
   "outputs": [],
   "source": [
    "haloInfo = nfwHalo['arr_1']\n",
    "genPhaseSpace = np.transpose(nfwHalo['arr_3'])"
   ]
  },
  {
   "cell_type": "code",
   "execution_count": 72,
   "metadata": {},
   "outputs": [],
   "source": [
    "class EntropyDataset(Dataset):\n",
    "    \"\"\"Top tagging dataset.\"\"\"\n",
    "\n",
    "    def __init__(self,data):\n",
    "        \"\"\"\n",
    "        Args:\n",
    "            datfile (string): File containing all the images.\n",
    "            transform (callable, optional): Optional transform to be applied\n",
    "                on a sample.\n",
    "        \"\"\"\n",
    "        self.data=data\n",
    "        \n",
    "#        self.images, self.labels = read_images(datfile,Nread)\n",
    "\n",
    "    def __len__(self):\n",
    "        self.len=len(self.data)\n",
    "        return self.len\n",
    "\n",
    "    def __getitem__(self, idx):\n",
    "        datum = self.data[idx]\n",
    "\n",
    "        return datum"
   ]
  },
  {
   "cell_type": "code",
   "execution_count": 73,
   "metadata": {},
   "outputs": [],
   "source": [
    "train_set = EntropyDataset(genPhaseSpace)"
   ]
  },
  {
   "cell_type": "code",
   "execution_count": 74,
   "metadata": {},
   "outputs": [],
   "source": [
    "my_batch_size=128\n",
    "\n",
    "train_loader = DataLoader(train_set, batch_size=my_batch_size,\n",
    "                        shuffle=True,pin_memory=True)\n",
    "# BECAUSE THIS IS UNSUPERVISED DENSITY ESTIMATION WE USE THE SAME TEST=TRAIN SET\n",
    "test_loader = DataLoader(train_set, batch_size=1000,\n",
    "                        shuffle=False,pin_memory=True)"
   ]
  },
  {
   "cell_type": "code",
   "execution_count": 75,
   "metadata": {},
   "outputs": [],
   "source": [
    "denaf = naf.DensityEstimator(flowtype=1,dim=6,lr=0.0001)"
   ]
  },
  {
   "cell_type": "code",
   "execution_count": 78,
   "metadata": {},
   "outputs": [],
   "source": [
    "epochs = 30"
   ]
  },
  {
   "cell_type": "code",
   "execution_count": 77,
   "metadata": {},
   "outputs": [
    {
     "name": "stdout",
     "output_type": "stream",
     "text": [
      "Iteration: [   1/ 100] loss: 4154.64576000\n",
      "Iteration: [   2/ 100] loss: 192.73430000\n",
      "Iteration: [   3/ 100] loss: 83.81275000\n",
      "Iteration: [   4/ 100] loss: 56.80016000\n",
      "Iteration: [   5/ 100] loss: 49.28111000\n",
      "Iteration: [   6/ 100] loss: 48.58346000\n",
      "Iteration: [   7/ 100] loss: 48.53493500\n",
      "Iteration: [   8/ 100] loss: 48.50676000\n",
      "Iteration: [   9/ 100] loss: 48.50508500\n",
      "Iteration: [  10/ 100] loss: 48.48963000\n",
      "Iteration: [  11/ 100] loss: 48.49816500\n",
      "Iteration: [  12/ 100] loss: 48.46501500\n",
      "Iteration: [  13/ 100] loss: 48.48731000\n",
      "Iteration: [  14/ 100] loss: 48.45800500\n",
      "Iteration: [  15/ 100] loss: 48.41706000\n",
      "Iteration: [  16/ 100] loss: 48.40697000\n",
      "Iteration: [  17/ 100] loss: 48.39766000\n",
      "Iteration: [  18/ 100] loss: 48.39236500\n",
      "Iteration: [  19/ 100] loss: 48.38952500\n",
      "Iteration: [  20/ 100] loss: 48.38341500\n",
      "Iteration: [  21/ 100] loss: 48.38513000\n",
      "Iteration: [  22/ 100] loss: 48.38444500\n",
      "Iteration: [  23/ 100] loss: 48.38057000\n",
      "Iteration: [  24/ 100] loss: 48.37897500\n",
      "Iteration: [  25/ 100] loss: 48.38055000\n",
      "Iteration: [  26/ 100] loss: 48.38071500\n",
      "Iteration: [  27/ 100] loss: 48.37897000\n",
      "Iteration: [  28/ 100] loss: 48.37815500\n",
      "Iteration: [  29/ 100] loss: 48.37673000\n",
      "Iteration: [  30/ 100] loss: 48.37578500\n",
      "Iteration: [  31/ 100] loss: 48.37551500\n",
      "Iteration: [  32/ 100] loss: 48.37602500\n",
      "Iteration: [  33/ 100] loss: 48.37646500\n",
      "Iteration: [  34/ 100] loss: 48.37422500\n"
     ]
    },
    {
     "ename": "KeyboardInterrupt",
     "evalue": "",
     "output_type": "error",
     "traceback": [
      "\u001b[1;31m---------------------------------------------------------------------------\u001b[0m",
      "\u001b[1;31mKeyboardInterrupt\u001b[0m                         Traceback (most recent call last)",
      "\u001b[1;32m<ipython-input-77-dca9bad89bab>\u001b[0m in \u001b[0;36m<module>\u001b[1;34m\u001b[0m\n\u001b[1;32m----> 1\u001b[1;33m \u001b[0mdenaf\u001b[0m\u001b[1;33m.\u001b[0m\u001b[0mfit\u001b[0m\u001b[1;33m(\u001b[0m\u001b[0mtrain_loader\u001b[0m\u001b[1;33m,\u001b[0m \u001b[0msave_directory\u001b[0m \u001b[1;33m=\u001b[0m \u001b[1;34m'results/nfw_example/'\u001b[0m\u001b[1;33m,\u001b[0m\u001b[0mtotal\u001b[0m\u001b[1;33m=\u001b[0m\u001b[0mepochs\u001b[0m\u001b[1;33m)\u001b[0m\u001b[1;33m\u001b[0m\u001b[1;33m\u001b[0m\u001b[0m\n\u001b[0m",
      "\u001b[1;32m~\\Desktop\\Rutgers\\research\\density_estimation\\Liouville\\naf\\DensityEstimator.py\u001b[0m in \u001b[0;36mfit\u001b[1;34m(self, dataloader, save_directory, total, verbose)\u001b[0m\n\u001b[0;32m     85\u001b[0m                 \u001b[0mself\u001b[0m\u001b[1;33m.\u001b[0m\u001b[0moptim\u001b[0m\u001b[1;33m.\u001b[0m\u001b[0mzero_grad\u001b[0m\u001b[1;33m(\u001b[0m\u001b[1;33m)\u001b[0m\u001b[1;33m\u001b[0m\u001b[1;33m\u001b[0m\u001b[0m\n\u001b[0;32m     86\u001b[0m \u001b[1;31m#                print('data: ',data)\u001b[0m\u001b[1;33m\u001b[0m\u001b[1;33m\u001b[0m\u001b[1;33m\u001b[0m\u001b[0m\n\u001b[1;32m---> 87\u001b[1;33m                 \u001b[0mlosses\u001b[0m \u001b[1;33m=\u001b[0m \u001b[1;33m-\u001b[0m \u001b[0mself\u001b[0m\u001b[1;33m.\u001b[0m\u001b[0mdensity\u001b[0m\u001b[1;33m(\u001b[0m\u001b[0mdata\u001b[0m\u001b[1;33m.\u001b[0m\u001b[0mcuda\u001b[0m\u001b[1;33m(\u001b[0m\u001b[1;33m)\u001b[0m\u001b[1;33m.\u001b[0m\u001b[0mfloat\u001b[0m\u001b[1;33m(\u001b[0m\u001b[1;33m)\u001b[0m\u001b[1;33m)\u001b[0m\u001b[1;33m\u001b[0m\u001b[1;33m\u001b[0m\u001b[0m\n\u001b[0m\u001b[0;32m     88\u001b[0m \u001b[1;31m#                print('losses: ',losses)\u001b[0m\u001b[1;33m\u001b[0m\u001b[1;33m\u001b[0m\u001b[1;33m\u001b[0m\u001b[0m\n\u001b[0;32m     89\u001b[0m                 \u001b[0mloss\u001b[0m \u001b[1;33m=\u001b[0m \u001b[0mlosses\u001b[0m\u001b[1;33m.\u001b[0m\u001b[0mmean\u001b[0m\u001b[1;33m(\u001b[0m\u001b[1;33m)\u001b[0m\u001b[1;33m\u001b[0m\u001b[1;33m\u001b[0m\u001b[0m\n",
      "\u001b[1;32m~\\Desktop\\Rutgers\\research\\density_estimation\\Liouville\\naf\\DensityEstimator.py\u001b[0m in \u001b[0;36mdensity\u001b[1;34m(self, spl)\u001b[0m\n\u001b[0;32m     69\u001b[0m         \u001b[0mzeros\u001b[0m \u001b[1;33m=\u001b[0m \u001b[0mzeros\u001b[0m\u001b[1;33m.\u001b[0m\u001b[0mcuda\u001b[0m\u001b[1;33m(\u001b[0m\u001b[1;33m)\u001b[0m\u001b[1;33m\u001b[0m\u001b[1;33m\u001b[0m\u001b[0m\n\u001b[0;32m     70\u001b[0m \u001b[1;33m\u001b[0m\u001b[0m\n\u001b[1;32m---> 71\u001b[1;33m         \u001b[0mz\u001b[0m\u001b[1;33m,\u001b[0m \u001b[0mlogdet\u001b[0m\u001b[1;33m,\u001b[0m \u001b[0m_\u001b[0m \u001b[1;33m=\u001b[0m \u001b[0mself\u001b[0m\u001b[1;33m.\u001b[0m\u001b[0mmdl\u001b[0m\u001b[1;33m(\u001b[0m\u001b[1;33m(\u001b[0m\u001b[0mspl\u001b[0m\u001b[1;33m,\u001b[0m \u001b[0mlgd\u001b[0m\u001b[1;33m,\u001b[0m \u001b[0mcontext\u001b[0m\u001b[1;33m)\u001b[0m\u001b[1;33m)\u001b[0m\u001b[1;33m\u001b[0m\u001b[1;33m\u001b[0m\u001b[0m\n\u001b[0m\u001b[0;32m     72\u001b[0m         \u001b[0mlosses\u001b[0m \u001b[1;33m=\u001b[0m \u001b[1;33m-\u001b[0m \u001b[0mutils\u001b[0m\u001b[1;33m.\u001b[0m\u001b[0mlog_normal\u001b[0m\u001b[1;33m(\u001b[0m\u001b[0mz\u001b[0m\u001b[1;33m,\u001b[0m \u001b[0mzeros\u001b[0m\u001b[1;33m,\u001b[0m \u001b[0mzeros\u001b[0m\u001b[1;33m+\u001b[0m\u001b[1;36m1.0\u001b[0m\u001b[1;33m)\u001b[0m\u001b[1;33m.\u001b[0m\u001b[0msum\u001b[0m\u001b[1;33m(\u001b[0m\u001b[1;36m1\u001b[0m\u001b[1;33m)\u001b[0m \u001b[1;33m-\u001b[0m \u001b[0mlogdet\u001b[0m\u001b[1;33m\u001b[0m\u001b[1;33m\u001b[0m\u001b[0m\n\u001b[0;32m     73\u001b[0m         \u001b[1;32mreturn\u001b[0m \u001b[1;33m-\u001b[0m \u001b[0mlosses\u001b[0m\u001b[1;33m\u001b[0m\u001b[1;33m\u001b[0m\u001b[0m\n",
      "\u001b[1;32m~\\anaconda3\\lib\\site-packages\\torch\\nn\\modules\\module.py\u001b[0m in \u001b[0;36m_call_impl\u001b[1;34m(self, *input, **kwargs)\u001b[0m\n\u001b[0;32m    887\u001b[0m             \u001b[0mresult\u001b[0m \u001b[1;33m=\u001b[0m \u001b[0mself\u001b[0m\u001b[1;33m.\u001b[0m\u001b[0m_slow_forward\u001b[0m\u001b[1;33m(\u001b[0m\u001b[1;33m*\u001b[0m\u001b[0minput\u001b[0m\u001b[1;33m,\u001b[0m \u001b[1;33m**\u001b[0m\u001b[0mkwargs\u001b[0m\u001b[1;33m)\u001b[0m\u001b[1;33m\u001b[0m\u001b[1;33m\u001b[0m\u001b[0m\n\u001b[0;32m    888\u001b[0m         \u001b[1;32melse\u001b[0m\u001b[1;33m:\u001b[0m\u001b[1;33m\u001b[0m\u001b[1;33m\u001b[0m\u001b[0m\n\u001b[1;32m--> 889\u001b[1;33m             \u001b[0mresult\u001b[0m \u001b[1;33m=\u001b[0m \u001b[0mself\u001b[0m\u001b[1;33m.\u001b[0m\u001b[0mforward\u001b[0m\u001b[1;33m(\u001b[0m\u001b[1;33m*\u001b[0m\u001b[0minput\u001b[0m\u001b[1;33m,\u001b[0m \u001b[1;33m**\u001b[0m\u001b[0mkwargs\u001b[0m\u001b[1;33m)\u001b[0m\u001b[1;33m\u001b[0m\u001b[1;33m\u001b[0m\u001b[0m\n\u001b[0m\u001b[0;32m    890\u001b[0m         for hook in itertools.chain(\n\u001b[0;32m    891\u001b[0m                 \u001b[0m_global_forward_hooks\u001b[0m\u001b[1;33m.\u001b[0m\u001b[0mvalues\u001b[0m\u001b[1;33m(\u001b[0m\u001b[1;33m)\u001b[0m\u001b[1;33m,\u001b[0m\u001b[1;33m\u001b[0m\u001b[1;33m\u001b[0m\u001b[0m\n",
      "\u001b[1;32m~\\anaconda3\\lib\\site-packages\\torch\\nn\\modules\\container.py\u001b[0m in \u001b[0;36mforward\u001b[1;34m(self, input)\u001b[0m\n\u001b[0;32m    117\u001b[0m     \u001b[1;32mdef\u001b[0m \u001b[0mforward\u001b[0m\u001b[1;33m(\u001b[0m\u001b[0mself\u001b[0m\u001b[1;33m,\u001b[0m \u001b[0minput\u001b[0m\u001b[1;33m)\u001b[0m\u001b[1;33m:\u001b[0m\u001b[1;33m\u001b[0m\u001b[1;33m\u001b[0m\u001b[0m\n\u001b[0;32m    118\u001b[0m         \u001b[1;32mfor\u001b[0m \u001b[0mmodule\u001b[0m \u001b[1;32min\u001b[0m \u001b[0mself\u001b[0m\u001b[1;33m:\u001b[0m\u001b[1;33m\u001b[0m\u001b[1;33m\u001b[0m\u001b[0m\n\u001b[1;32m--> 119\u001b[1;33m             \u001b[0minput\u001b[0m \u001b[1;33m=\u001b[0m \u001b[0mmodule\u001b[0m\u001b[1;33m(\u001b[0m\u001b[0minput\u001b[0m\u001b[1;33m)\u001b[0m\u001b[1;33m\u001b[0m\u001b[1;33m\u001b[0m\u001b[0m\n\u001b[0m\u001b[0;32m    120\u001b[0m         \u001b[1;32mreturn\u001b[0m \u001b[0minput\u001b[0m\u001b[1;33m\u001b[0m\u001b[1;33m\u001b[0m\u001b[0m\n\u001b[0;32m    121\u001b[0m \u001b[1;33m\u001b[0m\u001b[0m\n",
      "\u001b[1;32m~\\anaconda3\\lib\\site-packages\\torch\\nn\\modules\\module.py\u001b[0m in \u001b[0;36m_call_impl\u001b[1;34m(self, *input, **kwargs)\u001b[0m\n\u001b[0;32m    887\u001b[0m             \u001b[0mresult\u001b[0m \u001b[1;33m=\u001b[0m \u001b[0mself\u001b[0m\u001b[1;33m.\u001b[0m\u001b[0m_slow_forward\u001b[0m\u001b[1;33m(\u001b[0m\u001b[1;33m*\u001b[0m\u001b[0minput\u001b[0m\u001b[1;33m,\u001b[0m \u001b[1;33m**\u001b[0m\u001b[0mkwargs\u001b[0m\u001b[1;33m)\u001b[0m\u001b[1;33m\u001b[0m\u001b[1;33m\u001b[0m\u001b[0m\n\u001b[0;32m    888\u001b[0m         \u001b[1;32melse\u001b[0m\u001b[1;33m:\u001b[0m\u001b[1;33m\u001b[0m\u001b[1;33m\u001b[0m\u001b[0m\n\u001b[1;32m--> 889\u001b[1;33m             \u001b[0mresult\u001b[0m \u001b[1;33m=\u001b[0m \u001b[0mself\u001b[0m\u001b[1;33m.\u001b[0m\u001b[0mforward\u001b[0m\u001b[1;33m(\u001b[0m\u001b[1;33m*\u001b[0m\u001b[0minput\u001b[0m\u001b[1;33m,\u001b[0m \u001b[1;33m**\u001b[0m\u001b[0mkwargs\u001b[0m\u001b[1;33m)\u001b[0m\u001b[1;33m\u001b[0m\u001b[1;33m\u001b[0m\u001b[0m\n\u001b[0m\u001b[0;32m    890\u001b[0m         for hook in itertools.chain(\n\u001b[0;32m    891\u001b[0m                 \u001b[0m_global_forward_hooks\u001b[0m\u001b[1;33m.\u001b[0m\u001b[0mvalues\u001b[0m\u001b[1;33m(\u001b[0m\u001b[1;33m)\u001b[0m\u001b[1;33m,\u001b[0m\u001b[1;33m\u001b[0m\u001b[1;33m\u001b[0m\u001b[0m\n",
      "\u001b[1;32m~\\Desktop\\Rutgers\\research\\density_estimation\\Liouville\\naf\\torchkit\\flows.py\u001b[0m in \u001b[0;36mforward\u001b[1;34m(self, inputs)\u001b[0m\n\u001b[0;32m    101\u001b[0m         \u001b[0mx\u001b[0m\u001b[1;33m,\u001b[0m \u001b[0mlogdet\u001b[0m\u001b[1;33m,\u001b[0m \u001b[0mcontext\u001b[0m \u001b[1;33m=\u001b[0m \u001b[0minputs\u001b[0m\u001b[1;33m\u001b[0m\u001b[1;33m\u001b[0m\u001b[0m\n\u001b[0;32m    102\u001b[0m         \u001b[0mmean\u001b[0m \u001b[1;33m=\u001b[0m \u001b[0mself\u001b[0m\u001b[1;33m.\u001b[0m\u001b[0mmean\u001b[0m\u001b[1;33m(\u001b[0m\u001b[0mcontext\u001b[0m\u001b[1;33m)\u001b[0m\u001b[1;33m\u001b[0m\u001b[1;33m\u001b[0m\u001b[0m\n\u001b[1;32m--> 103\u001b[1;33m         \u001b[0mlstd\u001b[0m \u001b[1;33m=\u001b[0m \u001b[0mself\u001b[0m\u001b[1;33m.\u001b[0m\u001b[0mlstd\u001b[0m\u001b[1;33m(\u001b[0m\u001b[0mcontext\u001b[0m\u001b[1;33m)\u001b[0m\u001b[1;33m\u001b[0m\u001b[1;33m\u001b[0m\u001b[0m\n\u001b[0m\u001b[0;32m    104\u001b[0m         \u001b[0mstd\u001b[0m \u001b[1;33m=\u001b[0m \u001b[0mself\u001b[0m\u001b[1;33m.\u001b[0m\u001b[0mrealify\u001b[0m\u001b[1;33m(\u001b[0m\u001b[0mlstd\u001b[0m\u001b[1;33m)\u001b[0m\u001b[1;33m\u001b[0m\u001b[1;33m\u001b[0m\u001b[0m\n\u001b[0;32m    105\u001b[0m \u001b[1;33m\u001b[0m\u001b[0m\n",
      "\u001b[1;32m~\\anaconda3\\lib\\site-packages\\torch\\nn\\modules\\module.py\u001b[0m in \u001b[0;36m_call_impl\u001b[1;34m(self, *input, **kwargs)\u001b[0m\n\u001b[0;32m    887\u001b[0m             \u001b[0mresult\u001b[0m \u001b[1;33m=\u001b[0m \u001b[0mself\u001b[0m\u001b[1;33m.\u001b[0m\u001b[0m_slow_forward\u001b[0m\u001b[1;33m(\u001b[0m\u001b[1;33m*\u001b[0m\u001b[0minput\u001b[0m\u001b[1;33m,\u001b[0m \u001b[1;33m**\u001b[0m\u001b[0mkwargs\u001b[0m\u001b[1;33m)\u001b[0m\u001b[1;33m\u001b[0m\u001b[1;33m\u001b[0m\u001b[0m\n\u001b[0;32m    888\u001b[0m         \u001b[1;32melse\u001b[0m\u001b[1;33m:\u001b[0m\u001b[1;33m\u001b[0m\u001b[1;33m\u001b[0m\u001b[0m\n\u001b[1;32m--> 889\u001b[1;33m             \u001b[0mresult\u001b[0m \u001b[1;33m=\u001b[0m \u001b[0mself\u001b[0m\u001b[1;33m.\u001b[0m\u001b[0mforward\u001b[0m\u001b[1;33m(\u001b[0m\u001b[1;33m*\u001b[0m\u001b[0minput\u001b[0m\u001b[1;33m,\u001b[0m \u001b[1;33m**\u001b[0m\u001b[0mkwargs\u001b[0m\u001b[1;33m)\u001b[0m\u001b[1;33m\u001b[0m\u001b[1;33m\u001b[0m\u001b[0m\n\u001b[0m\u001b[0;32m    890\u001b[0m         for hook in itertools.chain(\n\u001b[0;32m    891\u001b[0m                 \u001b[0m_global_forward_hooks\u001b[0m\u001b[1;33m.\u001b[0m\u001b[0mvalues\u001b[0m\u001b[1;33m(\u001b[0m\u001b[1;33m)\u001b[0m\u001b[1;33m,\u001b[0m\u001b[1;33m\u001b[0m\u001b[1;33m\u001b[0m\u001b[0m\n",
      "\u001b[1;32m~\\Desktop\\Rutgers\\research\\density_estimation\\Liouville\\naf\\torchkit\\nn.py\u001b[0m in \u001b[0;36mforward\u001b[1;34m(self, input)\u001b[0m\n\u001b[0;32m    388\u001b[0m \u001b[1;33m\u001b[0m\u001b[0m\n\u001b[0;32m    389\u001b[0m     \u001b[1;32mdef\u001b[0m \u001b[0mforward\u001b[0m\u001b[1;33m(\u001b[0m\u001b[0mself\u001b[0m\u001b[1;33m,\u001b[0m \u001b[0minput\u001b[0m\u001b[1;33m)\u001b[0m\u001b[1;33m:\u001b[0m\u001b[1;33m\u001b[0m\u001b[1;33m\u001b[0m\u001b[0m\n\u001b[1;32m--> 390\u001b[1;33m         \u001b[0mh\u001b[0m \u001b[1;33m=\u001b[0m \u001b[0mself\u001b[0m\u001b[1;33m.\u001b[0m\u001b[0mactivation\u001b[0m\u001b[1;33m(\u001b[0m\u001b[0mself\u001b[0m\u001b[1;33m.\u001b[0m\u001b[0mdot_0h\u001b[0m\u001b[1;33m(\u001b[0m\u001b[0minput\u001b[0m\u001b[1;33m)\u001b[0m\u001b[1;33m)\u001b[0m\u001b[1;33m\u001b[0m\u001b[1;33m\u001b[0m\u001b[0m\n\u001b[0m\u001b[0;32m    391\u001b[0m         \u001b[0mout_nonlinear\u001b[0m \u001b[1;33m=\u001b[0m \u001b[0mself\u001b[0m\u001b[1;33m.\u001b[0m\u001b[0mdot_h1\u001b[0m\u001b[1;33m(\u001b[0m\u001b[0mh\u001b[0m\u001b[1;33m)\u001b[0m\u001b[1;33m\u001b[0m\u001b[1;33m\u001b[0m\u001b[0m\n\u001b[0;32m    392\u001b[0m         \u001b[0mout_skip\u001b[0m \u001b[1;33m=\u001b[0m \u001b[0minput\u001b[0m \u001b[1;32mif\u001b[0m \u001b[0mself\u001b[0m\u001b[1;33m.\u001b[0m\u001b[0msame_dim\u001b[0m \u001b[1;32melse\u001b[0m \u001b[0mself\u001b[0m\u001b[1;33m.\u001b[0m\u001b[0mdot_01\u001b[0m\u001b[1;33m(\u001b[0m\u001b[0minput\u001b[0m\u001b[1;33m)\u001b[0m\u001b[1;33m\u001b[0m\u001b[1;33m\u001b[0m\u001b[0m\n",
      "\u001b[1;32m~\\anaconda3\\lib\\site-packages\\torch\\nn\\modules\\module.py\u001b[0m in \u001b[0;36m_call_impl\u001b[1;34m(self, *input, **kwargs)\u001b[0m\n\u001b[0;32m    887\u001b[0m             \u001b[0mresult\u001b[0m \u001b[1;33m=\u001b[0m \u001b[0mself\u001b[0m\u001b[1;33m.\u001b[0m\u001b[0m_slow_forward\u001b[0m\u001b[1;33m(\u001b[0m\u001b[1;33m*\u001b[0m\u001b[0minput\u001b[0m\u001b[1;33m,\u001b[0m \u001b[1;33m**\u001b[0m\u001b[0mkwargs\u001b[0m\u001b[1;33m)\u001b[0m\u001b[1;33m\u001b[0m\u001b[1;33m\u001b[0m\u001b[0m\n\u001b[0;32m    888\u001b[0m         \u001b[1;32melse\u001b[0m\u001b[1;33m:\u001b[0m\u001b[1;33m\u001b[0m\u001b[1;33m\u001b[0m\u001b[0m\n\u001b[1;32m--> 889\u001b[1;33m             \u001b[0mresult\u001b[0m \u001b[1;33m=\u001b[0m \u001b[0mself\u001b[0m\u001b[1;33m.\u001b[0m\u001b[0mforward\u001b[0m\u001b[1;33m(\u001b[0m\u001b[1;33m*\u001b[0m\u001b[0minput\u001b[0m\u001b[1;33m,\u001b[0m \u001b[1;33m**\u001b[0m\u001b[0mkwargs\u001b[0m\u001b[1;33m)\u001b[0m\u001b[1;33m\u001b[0m\u001b[1;33m\u001b[0m\u001b[0m\n\u001b[0m\u001b[0;32m    890\u001b[0m         for hook in itertools.chain(\n\u001b[0;32m    891\u001b[0m                 \u001b[0m_global_forward_hooks\u001b[0m\u001b[1;33m.\u001b[0m\u001b[0mvalues\u001b[0m\u001b[1;33m(\u001b[0m\u001b[1;33m)\u001b[0m\u001b[1;33m,\u001b[0m\u001b[1;33m\u001b[0m\u001b[1;33m\u001b[0m\u001b[0m\n",
      "\u001b[1;32m~\\Desktop\\Rutgers\\research\\density_estimation\\Liouville\\naf\\torchkit\\nn.py\u001b[0m in \u001b[0;36mforward\u001b[1;34m(self, input)\u001b[0m\n\u001b[0;32m     76\u001b[0m         \u001b[1;32mif\u001b[0m \u001b[0mself\u001b[0m\u001b[1;33m.\u001b[0m\u001b[0mnorm\u001b[0m\u001b[1;33m:\u001b[0m\u001b[1;33m\u001b[0m\u001b[1;33m\u001b[0m\u001b[0m\n\u001b[0;32m     77\u001b[0m             \u001b[0mdir_\u001b[0m \u001b[1;33m=\u001b[0m \u001b[0mself\u001b[0m\u001b[1;33m.\u001b[0m\u001b[0mdirection\u001b[0m\u001b[1;33m\u001b[0m\u001b[1;33m\u001b[0m\u001b[0m\n\u001b[1;32m---> 78\u001b[1;33m             \u001b[0mdirection\u001b[0m \u001b[1;33m=\u001b[0m \u001b[0mdir_\u001b[0m\u001b[1;33m.\u001b[0m\u001b[0mdiv\u001b[0m\u001b[1;33m(\u001b[0m\u001b[0mdir_\u001b[0m\u001b[1;33m.\u001b[0m\u001b[0mpow\u001b[0m\u001b[1;33m(\u001b[0m\u001b[1;36m2\u001b[0m\u001b[1;33m)\u001b[0m\u001b[1;33m.\u001b[0m\u001b[0msum\u001b[0m\u001b[1;33m(\u001b[0m\u001b[1;36m1\u001b[0m\u001b[1;33m)\u001b[0m\u001b[1;33m.\u001b[0m\u001b[0msqrt\u001b[0m\u001b[1;33m(\u001b[0m\u001b[1;33m)\u001b[0m\u001b[1;33m[\u001b[0m\u001b[1;33m:\u001b[0m\u001b[1;33m,\u001b[0m\u001b[0mN_\u001b[0m\u001b[1;33m]\u001b[0m\u001b[1;33m)\u001b[0m\u001b[1;33m\u001b[0m\u001b[1;33m\u001b[0m\u001b[0m\n\u001b[0m\u001b[0;32m     79\u001b[0m             \u001b[0mweight\u001b[0m \u001b[1;33m=\u001b[0m \u001b[0mself\u001b[0m\u001b[1;33m.\u001b[0m\u001b[0mscale\u001b[0m\u001b[1;33m[\u001b[0m\u001b[1;33m:\u001b[0m\u001b[1;33m,\u001b[0m\u001b[0mN_\u001b[0m\u001b[1;33m]\u001b[0m\u001b[1;33m.\u001b[0m\u001b[0mmul\u001b[0m\u001b[1;33m(\u001b[0m\u001b[0mdirection\u001b[0m\u001b[1;33m)\u001b[0m\u001b[1;33m\u001b[0m\u001b[1;33m\u001b[0m\u001b[0m\n\u001b[0;32m     80\u001b[0m         \u001b[1;32melse\u001b[0m\u001b[1;33m:\u001b[0m\u001b[1;33m\u001b[0m\u001b[1;33m\u001b[0m\u001b[0m\n",
      "\u001b[1;31mKeyboardInterrupt\u001b[0m: "
     ]
    }
   ],
   "source": [
    "denaf.fit(train_loader, save_directory = 'results/nfw_example/',total=epochs)"
   ]
  },
  {
   "cell_type": "code",
   "execution_count": 79,
   "metadata": {},
   "outputs": [
    {
     "data": {
      "image/png": "[encoded data removed]",
      "text/plain": [
       "<Figure size 1200x600 with 2 Axes>"
      ]
     },
     "metadata": {
      "needs_background": "light"
     },
     "output_type": "display_data"
    }
   ],
   "source": [
    "# what are any of these plots? 0_o\n",
    "\n",
    "fig = plt.figure(figsize=(10, 5), dpi= 120)\n",
    "\n",
    "ax = fig.add_subplot(121)\n",
    "\n",
    "_,_,_ = ax.hist(np.sqrt(np.sum(genPhaseSpace[:,0:3]**2,axis=1)),bins=100)\n",
    "#ax.set_yscale('log')\n",
    "\n",
    "\n",
    "ax = fig.add_subplot(122)\n",
    "\n",
    "_,_,_ = ax.hist(np.sqrt(np.sum(genPhaseSpace[:,3:6]**2,axis=1)),bins=100)\n",
    "#ax.set_yscale('log')"
   ]
  },
  {
   "cell_type": "code",
   "execution_count": 80,
   "metadata": {},
   "outputs": [],
   "source": [
    "# What's happening in the next few cells?\n",
    "\n",
    "logprob = np.zeros(len(genPhaseSpace)) # initializing the log probability array\n",
    "gradient = np.zeros_like(genPhaseSpace) # initializing the gradient array\n",
    "acceleration = np.zeros((genPhaseSpace.shape[0],genPhaseSpace.shape[-1],genPhaseSpace.shape[-1])) # initializing the acceleration array\n",
    "\n",
    "min_epoch = 10\n",
    "\n",
    "for i in range(min_epoch,epochs):\n",
    "    denaf.mdl.load_state_dict(torch.load(\"results/nfw_example/nafmodel_\"+str(i)+\".dict\"))\n",
    "    logprob_temp = np.empty(0)\n",
    "    gradient_temp = np.empty(0)\n",
    "    acceleration_temp = np.empty(0)\n",
    "    for batch_idx, data in enumerate(test_loader):\n",
    "        logprob_temp = np.concatenate((logprob_temp,denaf.density(data.cuda().float()).cpu().detach().numpy()))\n",
    "        grad,acc = denaf.return_grad(data.cuda().float())\n",
    "        gradient_temp = np.concatenate((gradient_temp,grad.cpu().detach().numpy().flatten()))\n",
    "        acceleration_temp = np.concatenate((acceleration_temp,acc.cpu().detach().numpy().flatten()))\n",
    "    gradient_temp = gradient_temp.reshape(-1,genPhaseSpace.shape[-1])\n",
    "    acceleration_temp = acceleration_temp.reshape(-1,genPhaseSpace.shape[-1],genPhaseSpace.shape[-1])\n",
    "            \n",
    "    logprob += logprob_temp\n",
    "    gradient += gradient_temp\n",
    "    acceleration += acceleration_temp\n",
    "    \n",
    "logprob = logprob/len(range(min_epoch,epochs))\n",
    "gradient = gradient/len(range(min_epoch,epochs))\n",
    "acceleration = acceleration/len(range(min_epoch,epochs))"
   ]
  },
  {
   "cell_type": "code",
   "execution_count": 81,
   "metadata": {},
   "outputs": [
    {
     "data": {
      "text/plain": [
       "[<matplotlib.lines.Line2D at 0x1fb92d7da30>]"
      ]
     },
     "execution_count": 81,
     "metadata": {},
     "output_type": "execute_result"
    },
    {
     "data": {
      "image/png": "[encoded data removed]",
      "text/plain": [
       "<Figure size 720x432 with 1 Axes>"
      ]
     },
     "metadata": {
      "needs_background": "light"
     },
     "output_type": "display_data"
    }
   ],
   "source": [
    "plt.scatter(logprob)"
   ]
  },
  {
   "cell_type": "code",
   "execution_count": 82,
   "metadata": {},
   "outputs": [
    {
     "data": {
      "text/plain": [
       "(100000, 6)"
      ]
     },
     "execution_count": 82,
     "metadata": {},
     "output_type": "execute_result"
    }
   ],
   "source": [
    "np.shape(gradient)"
   ]
  },
  {
   "cell_type": "code",
   "execution_count": 95,
   "metadata": {},
   "outputs": [],
   "source": [
    "radiant = np.sqrt(gradient[:,0]**2+gradient[:,1]**2+gradient[:,2]**2)"
   ]
  },
  {
   "cell_type": "code",
   "execution_count": 96,
   "metadata": {},
   "outputs": [],
   "source": [
    "radii = np.sqrt(genPhaseSpace[:,0]**2+genPhaseSpace[:,1]**2+genPhaseSpace[:,2]**2)"
   ]
  },
  {
   "cell_type": "code",
   "execution_count": 97,
   "metadata": {},
   "outputs": [],
   "source": [
    "radiiSorted = radii[np.argsort(radii)]\n",
    "radiantSorted = radiant[np.argsort(radii)]"
   ]
  },
  {
   "cell_type": "code",
   "execution_count": 100,
   "metadata": {},
   "outputs": [
    {
     "data": {
      "text/plain": [
       "(array([ 186.,  406.,  589.,  796.,  919., 1032., 1063., 1143., 1218.,\n",
       "        1251., 1283., 1332., 1280., 1327., 1440., 1328., 1415., 1298.,\n",
       "        1399., 1354., 1298., 1400., 1406., 1316., 1283., 1359., 1300.,\n",
       "        1296., 1271., 1293., 1323., 1284., 1179., 1212., 1187., 1221.,\n",
       "        1208., 1229., 1135., 1170., 1132., 1097., 1101., 1107., 1168.,\n",
       "        1084., 1083., 1080., 1065., 1049.,  986., 1020., 1077.,  957.,\n",
       "        1001.,  991.,  996.,  946.,  891.,  968.,  966.,  938.,  975.,\n",
       "         916.,  917.,  859.,  921.,  905.,  866.,  837.,  820.,  841.,\n",
       "         838.,  830.,  821.,  796.,  778.,  807.,  845.,  761.,  797.,\n",
       "         780.,  754.,  746.,  739.,  784.,  758.,  735.,  724.,  716.,\n",
       "         731.,  724.,  713.,  657.,  703.,  717.,  723.,  695.,  679.,\n",
       "         660.]),\n",
       " array([4.31178035e+01, 5.23097096e+02, 1.00307639e+03, 1.48305568e+03,\n",
       "        1.96303497e+03, 2.44301427e+03, 2.92299356e+03, 3.40297285e+03,\n",
       "        3.88295214e+03, 4.36293144e+03, 4.84291073e+03, 5.32289002e+03,\n",
       "        5.80286931e+03, 6.28284861e+03, 6.76282790e+03, 7.24280719e+03,\n",
       "        7.72278649e+03, 8.20276578e+03, 8.68274507e+03, 9.16272436e+03,\n",
       "        9.64270366e+03, 1.01226829e+04, 1.06026622e+04, 1.10826415e+04,\n",
       "        1.15626208e+04, 1.20426001e+04, 1.25225794e+04, 1.30025587e+04,\n",
       "        1.34825380e+04, 1.39625173e+04, 1.44424966e+04, 1.49224759e+04,\n",
       "        1.54024552e+04, 1.58824345e+04, 1.63624138e+04, 1.68423930e+04,\n",
       "        1.73223723e+04, 1.78023516e+04, 1.82823309e+04, 1.87623102e+04,\n",
       "        1.92422895e+04, 1.97222688e+04, 2.02022481e+04, 2.06822274e+04,\n",
       "        2.11622067e+04, 2.16421860e+04, 2.21221653e+04, 2.26021446e+04,\n",
       "        2.30821238e+04, 2.35621031e+04, 2.40420824e+04, 2.45220617e+04,\n",
       "        2.50020410e+04, 2.54820203e+04, 2.59619996e+04, 2.64419789e+04,\n",
       "        2.69219582e+04, 2.74019375e+04, 2.78819168e+04, 2.83618961e+04,\n",
       "        2.88418754e+04, 2.93218547e+04, 2.98018339e+04, 3.02818132e+04,\n",
       "        3.07617925e+04, 3.12417718e+04, 3.17217511e+04, 3.22017304e+04,\n",
       "        3.26817097e+04, 3.31616890e+04, 3.36416683e+04, 3.41216476e+04,\n",
       "        3.46016269e+04, 3.50816062e+04, 3.55615855e+04, 3.60415647e+04,\n",
       "        3.65215440e+04, 3.70015233e+04, 3.74815026e+04, 3.79614819e+04,\n",
       "        3.84414612e+04, 3.89214405e+04, 3.94014198e+04, 3.98813991e+04,\n",
       "        4.03613784e+04, 4.08413577e+04, 4.13213370e+04, 4.18013163e+04,\n",
       "        4.22812956e+04, 4.27612748e+04, 4.32412541e+04, 4.37212334e+04,\n",
       "        4.42012127e+04, 4.46811920e+04, 4.51611713e+04, 4.56411506e+04,\n",
       "        4.61211299e+04, 4.66011092e+04, 4.70810885e+04, 4.75610678e+04,\n",
       "        4.80410471e+04]),\n",
       " <BarContainer object of 100 artists>)"
      ]
     },
     "execution_count": 100,
     "metadata": {},
     "output_type": "execute_result"
    },
    {
     "data": {
      "image/png": "[encoded data removed]",
      "text/plain": [
       "<Figure size 720x432 with 1 Axes>"
      ]
     },
     "metadata": {
      "needs_background": "light"
     },
     "output_type": "display_data"
    }
   ],
   "source": [
    "plt.hist(radiiSorted,100)"
   ]
  },
  {
   "cell_type": "code",
   "execution_count": 99,
   "metadata": {},
   "outputs": [
    {
     "data": {
      "text/plain": [
       "[<matplotlib.lines.Line2D at 0x1fba5d4e1c0>]"
      ]
     },
     "execution_count": 99,
     "metadata": {},
     "output_type": "execute_result"
    },
    {
     "data": {
      "image/png": "[encoded data removed]",
      "text/plain": [
       "<Figure size 720x432 with 1 Axes>"
      ]
     },
     "metadata": {
      "needs_background": "light"
     },
     "output_type": "display_data"
    }
   ],
   "source": [
    "plt.plot(radiantSorted)"
   ]
  },
  {
   "cell_type": "code",
   "execution_count": 88,
   "metadata": {},
   "outputs": [
    {
     "data": {
      "text/plain": [
       "(100000, 6, 6)"
      ]
     },
     "execution_count": 88,
     "metadata": {},
     "output_type": "execute_result"
    }
   ],
   "source": [
    "np.shape(acceleration)"
   ]
  },
  {
   "cell_type": "code",
   "execution_count": 68,
   "metadata": {},
   "outputs": [],
   "source": [
    "testpoints = np.vstack([np.linspace(-30,30,20),\n",
    "                       np.linspace(-30,30,20),\n",
    "                       np.linspace(-30,30,20),\n",
    "                       np.linspace(-20,20,20),\n",
    "                       np.linspace(-20,20,20),\n",
    "                       np.linspace(-20,20,20)]).T"
   ]
  },
  {
   "cell_type": "code",
   "execution_count": 69,
   "metadata": {},
   "outputs": [
    {
     "data": {
      "text/plain": [
       "array([[-30.        , -30.        , -30.        , -20.        ,\n",
       "        -20.        , -20.        ],\n",
       "       [-26.84210526, -26.84210526, -26.84210526, -17.89473684,\n",
       "        -17.89473684, -17.89473684],\n",
       "       [-23.68421053, -23.68421053, -23.68421053, -15.78947368,\n",
       "        -15.78947368, -15.78947368],\n",
       "       [-20.52631579, -20.52631579, -20.52631579, -13.68421053,\n",
       "        -13.68421053, -13.68421053],\n",
       "       [-17.36842105, -17.36842105, -17.36842105, -11.57894737,\n",
       "        -11.57894737, -11.57894737],\n",
       "       [-14.21052632, -14.21052632, -14.21052632,  -9.47368421,\n",
       "         -9.47368421,  -9.47368421],\n",
       "       [-11.05263158, -11.05263158, -11.05263158,  -7.36842105,\n",
       "         -7.36842105,  -7.36842105],\n",
       "       [ -7.89473684,  -7.89473684,  -7.89473684,  -5.26315789,\n",
       "         -5.26315789,  -5.26315789],\n",
       "       [ -4.73684211,  -4.73684211,  -4.73684211,  -3.15789474,\n",
       "         -3.15789474,  -3.15789474],\n",
       "       [ -1.57894737,  -1.57894737,  -1.57894737,  -1.05263158,\n",
       "         -1.05263158,  -1.05263158],\n",
       "       [  1.57894737,   1.57894737,   1.57894737,   1.05263158,\n",
       "          1.05263158,   1.05263158],\n",
       "       [  4.73684211,   4.73684211,   4.73684211,   3.15789474,\n",
       "          3.15789474,   3.15789474],\n",
       "       [  7.89473684,   7.89473684,   7.89473684,   5.26315789,\n",
       "          5.26315789,   5.26315789],\n",
       "       [ 11.05263158,  11.05263158,  11.05263158,   7.36842105,\n",
       "          7.36842105,   7.36842105],\n",
       "       [ 14.21052632,  14.21052632,  14.21052632,   9.47368421,\n",
       "          9.47368421,   9.47368421],\n",
       "       [ 17.36842105,  17.36842105,  17.36842105,  11.57894737,\n",
       "         11.57894737,  11.57894737],\n",
       "       [ 20.52631579,  20.52631579,  20.52631579,  13.68421053,\n",
       "         13.68421053,  13.68421053],\n",
       "       [ 23.68421053,  23.68421053,  23.68421053,  15.78947368,\n",
       "         15.78947368,  15.78947368],\n",
       "       [ 26.84210526,  26.84210526,  26.84210526,  17.89473684,\n",
       "         17.89473684,  17.89473684],\n",
       "       [ 30.        ,  30.        ,  30.        ,  20.        ,\n",
       "         20.        ,  20.        ]])"
      ]
     },
     "execution_count": 69,
     "metadata": {},
     "output_type": "execute_result"
    }
   ],
   "source": [
    "testpoints"
   ]
  },
  {
   "cell_type": "code",
   "execution_count": null,
   "metadata": {},
   "outputs": [],
   "source": []
  }
 ],
 "metadata": {
  "kernelspec": {
   "display_name": "Python 3",
   "language": "python",
   "name": "python3"
  },
  "language_info": {
   "codemirror_mode": {
    "name": "ipython",
    "version": 3
   },
   "file_extension": ".py",
   "mimetype": "text/x-python",
   "name": "python",
   "nbconvert_exporter": "python",
   "pygments_lexer": "ipython3",
   "version": "3.8.5"
  }
 },
 "nbformat": 4,
 "nbformat_minor": 4
}
